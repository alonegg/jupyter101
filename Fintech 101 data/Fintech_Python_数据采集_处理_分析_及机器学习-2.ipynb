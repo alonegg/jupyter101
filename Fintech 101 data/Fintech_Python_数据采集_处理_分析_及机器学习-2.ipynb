{
 "cells": [
  {
   "cell_type": "markdown",
   "metadata": {},
   "source": [
    "# Fintech101- 数据采集、处理、分析以及机器学习"
   ]
  },
  {
   "cell_type": "markdown",
   "metadata": {},
   "source": [
    "## 预备知识\n",
    "\n",
    "1. python3.0以上基础 [https://www.python.org](https://www.python.org)\n",
    "2. python http访问库，[requests](http://www.python-requests.org/en/master/)\n",
    "3. python html解析库，[Beautiful Soup](https://www.crummy.com/software/BeautifulSoup/)\n",
    "4. python 数据处理库，[Pandas](https://pandas.pydata.org)\n",
    "5. python 绘图工具库，[Matplotlib](https://matplotlib.org)\n",
    "6. machine learning， [Tensorflow](https://www.tensorflow.org)\n",
    "7. web&http基本概念和原理  \n",
    "\n",
    "以上的工具库或者开源项目，大家在学习的时候，其实只需要关注其基本概念和原理以及官方文档的前几章，在后面的课程中我们会一步一步边上课边讲解。"
   ]
  },
  {
   "cell_type": "markdown",
   "metadata": {},
   "source": [
    "## 课程内容\n",
    "通过本课程，我们将去**探索人民币汇率和国内油价是否存在某种联系**。    \n",
    "同时用**机器学习**的方法去给这种可能的联系系建立模型，并通过这个模型，给出一个汇率值，快速预测国内油价。    \n",
    "该课程建立的模型仅仅是**介绍方法**，这个模型或许无效，重要的是**学会数据探索和分析**的方法。"
   ]
  },
  {
   "cell_type": "markdown",
   "metadata": {},
   "source": [
    "## web和http基本概念\n",
    "web - World Wide Web，万维网    \n",
    "http - hyper text transfer protocol 超文本传输协议    \n",
    "**计算机连接  ->  所有设备的连接  ->  人的连接**"
   ]
  },
  {
   "cell_type": "markdown",
   "metadata": {},
   "source": [
    "## 数据采集\n",
    "这部分我们将探索如何使用python这门语言以及其提供的开源项目去抓取目标数据。    \n",
    "主要分为两个部分： \n",
    "* 人民币汇率数据的抓取  \n",
    "* 国内油价数据的抓取"
   ]
  },
  {
   "cell_type": "markdown",
   "metadata": {},
   "source": [
    "### 人民币汇率数据的抓取\n",
    "数据来源，中国银行外汇牌价 [中国银行](http://www.boc.cn/sourcedb/whpj/)"
   ]
  },
  {
   "cell_type": "markdown",
   "metadata": {},
   "source": [
    "#### 汇率数据的网页结构分析\n",
    "该页面提供了一个根据起始时间和结束时间以及外币币种的搜索操作，我们根据此操作获取2012-1-1至2018-10-1之间的人民币和美元的汇率数据。    \n",
    "本课程选择 *现钞卖出价* 作为目标数据。 \n",
    "经过分析可以得出实际的获取url为: http://srh.bankofchina.com/search/whpj/search.jsp?erectDate=2018-10-01%2020:00:00&nothing=2018-10-02%2021:00:00&pjname=1316    \n",
    "其中erectDate为开始时间，nothing为结束时间，pjname为外汇类型(1316为美元)。\n",
    "开始时间和结束时间虽然在界面上通过ui操作只能生成日为单位的时间，但是经过尝试，发现可以接受带时分秒的参数。在上述的url中带了时分秒，其中%20是经过url编码的空格。    \n",
    "如果起始时间设置为2012-01-01，结束时间设置为2018010-01，则search结果为一个分页的数据列表，大概每天的数据为3页，而我们的目标是每天一个汇率数据即可，我们选择每天00:00:00-23:59:59之间的第一条数据作为当日数据。    \n",
    "\n",
    "**那接下来我们是分页去获取数据，还是采用别的方式呢？大家这里可以思考一下。**\n"
   ]
  },
  {
   "cell_type": "markdown",
   "metadata": {},
   "source": [
    "#### 汇率数据的抓取\n",
    "基于上一节的分析，我们准备每次抓取数据都构建如下的http请求:    \n",
    "- url:  http://srh.bankofchina.com/search/whpj/search.jsp\n",
    "- method: GET\n",
    "- query string:   \n",
    "   - erectDate 起始时间 2018-10-01 09:00:00\n",
    "   - nothing   结束时间 2018-10-01 10:00:00\n",
    "   - pjname    1316\n",
    "- user agent: 随机列表选择\n",
    "\n",
    "每次获取返回列表的第一条数据作为当日数据。"
   ]
  },
  {
   "cell_type": "markdown",
   "metadata": {},
   "source": [
    "##### 获取数据前的准备，构建随机的user agent"
   ]
  },
  {
   "cell_type": "code",
   "execution_count": 1,
   "metadata": {},
   "outputs": [
    {
     "name": "stdout",
     "output_type": "stream",
     "text": [
      "Mozilla/5.0 (X11; Linux x86_64) AppleWebKit/537.36 (KHTML, like Gecko) Chrome/44.0.2403.157 Safari/537.36\n",
      "Mozilla/5.0 (Macintosh; Intel Mac OS X 10_11_6) AppleWebKit/601.7.8 (KHTML, like Gecko) Version/9.1.3 Safari/601.7.8\n",
      "Mozilla/5.0 (Macintosh; Intel Mac OS X 10_12_5) AppleWebKit/537.36 (KHTML, like Gecko) Chrome/58.0.3029.110 Safari/537.36\n"
     ]
    }
   ],
   "source": [
    "import random\n",
    "\n",
    "user_agents = [\n",
    "    'Mozilla/5.0 (Windows NT 10.0; Win64; x64) AppleWebKit/537.36 (KHTML, like Gecko) Chrome/60.0.3112.113 Safari/537.36',\n",
    "    'Mozilla/5.0 (Windows NT 6.1; Win64; x64) AppleWebKit/537.36 (KHTML, like Gecko) Chrome/60.0.3112.90 Safari/537.36',\n",
    "    'Mozilla/5.0 (X11; Linux x86_64) AppleWebKit/537.36 (KHTML, like Gecko) Chrome/44.0.2403.157 Safari/537.36',\n",
    "    'Mozilla/5.0 (Macintosh; Intel Mac OS X 10_12_6) AppleWebKit/537.36 (KHTML, like Gecko) Chrome/61.0.3163.100 Safari/537.36',\n",
    "    'Mozilla/5.0 (Macintosh; Intel Mac OS X 10_12_5) AppleWebKit/537.36 (KHTML, like Gecko) Chrome/58.0.3029.110 Safari/537.36',\n",
    "    'Mozilla/5.0 (Macintosh; Intel Mac OS X 10_13_6) AppleWebKit/605.1.15 (KHTML, like Gecko) Version/11.1.2 Safari/605.1.15',\n",
    "    'Mozilla/5.0 (Macintosh; Intel Mac OS X 10_13_4) AppleWebKit/605.1.15 (KHTML, like Gecko) Version/11.1 Safari/605.1.15',\n",
    "    'Mozilla/5.0 (Macintosh; Intel Mac OS X 10_13_2) AppleWebKit/604.4.7 (KHTML, like Gecko) Version/11.0.2 Safari/604.4.7',\n",
    "    'Mozilla/5.0 (Macintosh; Intel Mac OS X 10_11_6) AppleWebKit/601.7.8 (KHTML, like Gecko) Version/9.1.3 Safari/601.7.8',\n",
    "    'Mozilla/5.0 (Macintosh; Intel Mac OS X 10_11) AppleWebKit/601.1.56 (KHTML, like Gecko) Version/9.0 Safari/601.1.56'\n",
    "]\n",
    "\n",
    "def get_user_agent():\n",
    "    i = random.randint(0, 9)\n",
    "    return user_agents[i]\n",
    "\n",
    "print(get_user_agent())\n",
    "print(get_user_agent())\n",
    "print(get_user_agent())"
   ]
  },
  {
   "cell_type": "markdown",
   "metadata": {},
   "source": [
    "##### 构建http请求并获取网页数据"
   ]
  },
  {
   "cell_type": "code",
   "execution_count": 2,
   "metadata": {},
   "outputs": [
    {
     "name": "stdout",
     "output_type": "stream",
     "text": [
      "       \r\n",
      "\t<html>\r\n",
      "\t<head>\r\n",
      "\t<META content=\"IE=7.0000\" http-equiv=\"X-UA-Compatible\">\r\n",
      "\t<meta http-equiv=\"Content-Type\" content=\"text/html; charset=GBK\">\r\n",
      "\t<title>中国银行外汇牌价</title>\r\n",
      "\t<SCRIPT LANGUAGE=\"JavaScript\" src=\"../js/wcm_page_2013.js\"></SCRIPT>\r\n",
      "\t<script type=\"text/javascript\" src=\"../js/My97DatePicker/WdatePicker.js\"></script>\r\n",
      "\t</head>\r\n",
      "\t\r\n",
      "\t\r\n",
      "<body onload=\"init_list();\" style='width:980px;margin:0 auto;'>\r\n",
      "<!-- 头部嵌套 -->\r\n",
      "<link href=\"http://www.bankofchina.com/images/boc2013_reset.css\" rel=\"stylesheet\" type=\"text/css\" ignoreapd=\"1\">\r\n",
      "<link href=\"http://www.bankofchina.com/images/boc2013_common.css\" rel=\"stylesheet\" type=\"text/css\" ignoreapd=\"1\">\r\n",
      "<link href=\"http://www.bankofchina.com/images/boc2013_pages.css\" rel=\"stylesheet\" type=\"text/css\" ignoreapd=\"1\">\r\n",
      "<!--[if lte IE 8]>\r\n",
      "<link type=\"text/css\" rel=\"stylesheet\" href=\"http://www.bankofchina.com/images/boc2013_iestyle.css\">\r\n",
      "<![endif]-->\r\n",
      "<script language=\"JavaScript\" src=\"http://www.bankofchina.com/head.js\" ignoreapd=\"1\"></script>\r\n",
      "<script type=\"text/javascript\" src=\"http://www.bankofchina.com/images/boc2013_jquery-min.js\" ignoreapd=\"1\"></script>\r\n",
      "<script type=\"text/javascript\" src=\"http://www.bankofchina.com/images/boc2013_boc.js\" ignoreapd=\"1\"></script>\r\n",
      "<style type=\"text/css\">\r\n",
      "body{\r\n",
      "\tbackground:#FFF;\r\n",
      "\tfont: 12px/26px Verdana,Geneva,sans-serif,\"宋体\";\r\n",
      "\tcolor: rgb(83, 83, 83);\r\n",
      "\tmargin:0 auto;\r\n",
      "\ttext-align:center;\r\n",
      "}\r\n",
      ".wrapper{text-align:left;}\r\n",
      ".invest_t table td,.publish table th ,.publish table tr{\r\n",
      "\tfont-size:12px;\r\n",
      "}\r\n",
      ".invest_t table tr td select{\r\n",
      "\theight:30px;\r\n",
      "}\r\n",
      ".invest_t table tr th select{\r\n",
      "\theight:auto;\r\n",
      "}\r\n",
      ".invest_t select{\r\n",
      "\twidth:auto;\r\n",
      "\theight:auto;\r\n",
      "}\r\n",
      "#calendarTable tr td{\r\n",
      "\theight:20px;\r\n",
      "}\r\n",
      "</style>\r\n",
      "<div class=\"wrapper\">\r\n",
      "<script language=\"JavaScript\">\r\n",
      "\t<!--\r\n",
      "\tcreateTop();\r\n",
      "\t//-->\r\n",
      "</script>\r\n",
      "<!-- 页面导航 -->\r\n",
      "<div class='cramb' id='PL_NAVIGATOR'><span>当前位置：</span><a href=\"http://www.bankofchina.com\">首页</a>>外汇牌价</div>\r\n",
      "<h2 class=\"title\">&nbsp;<br><br></h2>\r\n",
      "<form method=\"post\" name=\"historysearchform\" id=\"historysearchform\" action=\"search.jsp\">\r\n",
      "<div class=\"invest_t\" style=\"float:left;width:980px;\">\r\n",
      "<SCRIPT language=javascript src=\"../js/WebCalendar.js\"></SCRIPT> \r\n",
      "\t<table cellpadding=\"0\" cellspacing=\"0\" width=\"100%\">\r\n",
      "\t\t<tr>\r\n",
      "\t\t\t<td align=\"right\" width=\"8%\">起始时间：</td>\r\n",
      "\t\t\t<td align=\"left\" width=\"110px;\">\r\n",
      "\t\t\t\t<div class=\"search_bar\" style=\"float:left;width:100px;margin-left:10px;\">\r\n",
      "\t\t\t\t\t<input class=\"search_ipt\" style=\"width:100px;\" type=\"text\" name=\"erectDate\" value=\"2018-10-01 09:00:00\"  onclick=\"new Calendar(null, null,0).show(this);\" readonly>\r\n",
      "\t\t\t\t</div>\r\n",
      "\t\t\t</td>\r\n",
      "\t\t\t<td align=\"right\" width=\"8%\">结束时间：</td>\r\n",
      "\t\t\t<td align=\"left\" width=\"110px;\">\r\n",
      "\t\t\t\t<div class=\"search_bar\" style=\"float:left;width:100px;margin-left:10px;\">\r\n",
      "\t\t\t\t\t<input class=\"search_ipt\" style=\"width:100px;\" type=\"text\" name=\"nothing\" value=\"2018-10-01 23:00:00\"  onclick=\"new Calendar(null, null,0).show(this);\" readonly>\r\n",
      "\t\t\t\t</div>\r\n",
      "\t\t\t</td>\r\n",
      "\t\t\t<td align=\"right\" width=\"10%\">牌价选择：</td>\r\n",
      "\t\t\t<td align=\"left\" width=\"110px;\">\r\n",
      "\t\t\t\t\r\n",
      "\t\t\t\t<select name=\"pjname\" id=\"pjname\">\r\n",
      "\t\t\t\t\t<option value=\"0\" >选择货币</option>\r\n",
      "\t\t\t\t\t<option value=\"1314\" >英镑</option>\r\n",
      "\t\t\t\t\t<option value=\"1315\" >港币</option>\r\n",
      "\t\t\t\t\t<option value=\"1316\"  selected>美元</option>\r\n",
      "\t\t\t\t\t<option value=\"1317\" >瑞士法郎</option>\r\n",
      "\t\t\t\t\t<option value=\"1318\" >德国马克</option>\r\n",
      "\t\t\t\t\t<option value=\"1319\" >法国法郎</option>\r\n",
      "\t\t\t\t\t<option value=\"1375\" >新加坡元</option>\r\n",
      "\t\t\t\t\t<option value=\"1320\" >瑞典克朗</option>\r\n",
      "\t\t\t\t\t<option value=\"1321\" >丹麦克朗</option>\r\n",
      "\t\t\t\t\t<option value=\"1322\" >挪威克朗</option>\r\n",
      "\t\t\t\t\t<option value=\"1323\" >日元</option>\r\n",
      "\t\t\t\t\t<option value=\"1324\" >加拿大元</option>\r\n",
      "\t\t\t\t\t<option value=\"1325\" >澳大利亚元</option>\r\n",
      "\t\t\t\t\t<option value=\"1326\" >欧元</option>\r\n",
      "\t\t\t\t\t<option value=\"1327\" >澳门元</option>\r\n",
      "\t\t\t\t\t<option value=\"1328\" >菲律宾比索</option>\r\n",
      "\t\t\t\t\t<option value=\"1329\" >泰国铢</option>\r\n",
      "\t\t\t\t\t<option value=\"1330\" >新西兰元</option>\r\n",
      "\t\t\t\t\t<option value=\"1331\" >韩元</option>\r\n",
      "\t\t\t\t\t<option value=\"1843\" >卢布</option>\r\n",
      "\t\t\t\t\t<option value=\"2890\" >林吉特</option>\r\n",
      "\t\t\t\t\t<option value=\"2895\" >新台币</option>\r\n",
      "\t\t\t\t\t<option value=\"1370\" >西班牙比塞塔</option>\r\n",
      "\t\t\t\t\t<option value=\"1371\" >意大利里拉</option>\r\n",
      "\t\t\t\t\t<option value=\"1372\" >荷兰盾</option>\r\n",
      "\t\t\t\t\t<option value=\"1373\" >比利时法郎</option>\r\n",
      "\t\t\t\t\t<option value=\"1374\" >芬兰马克</option>\r\n",
      "\t\t\t\t\t<option value=\"3030\" >印尼卢比</option>\r\n",
      "\t\t\t\t\t<option value=\"3253\" >巴西里亚尔</option>\r\n",
      "\t\t\t\t\t<option value=\"3899\" >阿联酋迪拉姆</option>\r\n",
      "\t\t\t\t\t<option value=\"3900\" >印度卢比</option>\r\n",
      "\t\t\t\t\t<option value=\"3901\" >南非兰特</option>\r\n",
      "\t\t\t\t\t<option value=\"4418\" >沙特里亚尔</option>\r\n",
      "\t\t\t\t\t<option value=\"4560\" >土耳其里拉</option>\r\n",
      "\t\t\t\t</select>\r\n",
      "\t\t\t</td>\r\n",
      "\t\t\t<td width=\"30px;\" align=\"left\">\r\n",
      "\t\t\t\t<input class=\"search_btn\" style=\"float:right;margin-righth:26px;\" type=\"button\" onclick=\"executeSearch()\">\r\n",
      "\t\t\t</td>\r\n",
      "\t\t\t<td>&nbsp;</td>\r\n",
      "\t\t</tr>\r\n",
      "\t</table>\r\n",
      "</div>\r\n",
      "</form>\r\n",
      "\r\n",
      "<div class=\"BOC_main publish\">\r\n",
      "\t<table cellpadding=\"0\" cellspacing=\"0\" width=\"100%\" align=\"left\">\r\n",
      "\t<tr>\r\n",
      "\t\t<th>货币名称</th>\r\n",
      "\t\t<th>现汇买入价</th>\r\n",
      "\t\t<th>现钞买入价</th>\r\n",
      "\t\t<th>现汇卖出价</th>\r\n",
      "\t\t<th>现钞卖出价</th>\r\n",
      "\t\t<th>中行折算价</th>\r\n",
      "\t\t<th>发布时间</th>\r\n",
      "\t</tr>\r\n",
      " \r\n",
      "\t\t<tr>\r\n",
      "\t\t\t<td>美元</td>\r\n",
      "\t\t\t<td>685.91</td>\r\n",
      "\t\t\t\t<td>680.33</td>\r\n",
      "\t\t\t\t<td>688.81</td>\r\n",
      "\t\t\t\t<td>688.81</td>\r\n",
      "\t\t\t\t<td>687.92</td>\r\n",
      "\t\t\t\t<td>2018.10.01 22:47:08</td>              \r\n",
      "\t\t</tr>\r\n",
      "                    \r\n",
      "\t\t\t \r\n",
      "\t\t<tr>\r\n",
      "\t\t\t<td>美元</td>\r\n",
      "\t\t\t<td>685.91</td>\r\n",
      "\t\t\t\t<td>680.33</td>\r\n",
      "\t\t\t\t<td>688.81</td>\r\n",
      "\t\t\t\t<td>688.81</td>\r\n",
      "\t\t\t\t<td>687.92</td>\r\n",
      "\t\t\t\t<td>2018.10.01 22:00:10</td>              \r\n",
      "\t\t</tr>\r\n",
      "                    \r\n",
      "\t\t\t \r\n",
      "\t\t<tr>\r\n",
      "\t\t\t<td>美元</td>\r\n",
      "\t\t\t<td>685.91</td>\r\n",
      "\t\t\t\t<td>680.33</td>\r\n",
      "\t\t\t\t<td>688.81</td>\r\n",
      "\t\t\t\t<td>688.81</td>\r\n",
      "\t\t\t\t<td>687.92</td>\r\n",
      "\t\t\t\t<td>2018.10.01 21:45:39</td>              \r\n",
      "\t\t</tr>\r\n",
      "                    \r\n",
      "\t\t\t \r\n",
      "\t\t<tr>\r\n",
      "\t\t\t<td>美元</td>\r\n",
      "\t\t\t<td>685.91</td>\r\n",
      "\t\t\t\t<td>680.33</td>\r\n",
      "\t\t\t\t<td>688.81</td>\r\n",
      "\t\t\t\t<td>688.81</td>\r\n",
      "\t\t\t\t<td>687.92</td>\r\n",
      "\t\t\t\t<td>2018.10.01 21:23:53</td>              \r\n",
      "\t\t</tr>\r\n",
      "                    \r\n",
      "\t\t\t \r\n",
      "\t\t<tr>\r\n",
      "\t\t\t<td>美元</td>\r\n",
      "\t\t\t<td>685.91</td>\r\n",
      "\t\t\t\t<td>680.33</td>\r\n",
      "\t\t\t\t<td>688.81</td>\r\n",
      "\t\t\t\t<td>688.81</td>\r\n",
      "\t\t\t\t<td>687.92</td>\r\n",
      "\t\t\t\t<td>2018.10.01 21:14:29</td>              \r\n",
      "\t\t</tr>\r\n",
      "                    \r\n",
      "\t\t\t \r\n",
      "\t\t<tr>\r\n",
      "\t\t\t<td>美元</td>\r\n",
      "\t\t\t<td>685.91</td>\r\n",
      "\t\t\t\t<td>680.33</td>\r\n",
      "\t\t\t\t<td>688.81</td>\r\n",
      "\t\t\t\t<td>688.81</td>\r\n",
      "\t\t\t\t<td>687.92</td>\r\n",
      "\t\t\t\t<td>2018.10.01 21:05:10</td>              \r\n",
      "\t\t</tr>\r\n",
      "                    \r\n",
      "\t\t\t \r\n",
      "\t\t<tr>\r\n",
      "\t\t\t<td>美元</td>\r\n",
      "\t\t\t<td>685.91</td>\r\n",
      "\t\t\t\t<td>680.33</td>\r\n",
      "\t\t\t\t<td>688.81</td>\r\n",
      "\t\t\t\t<td>688.81</td>\r\n",
      "\t\t\t\t<td>687.92</td>\r\n",
      "\t\t\t\t<td>2018.10.01 21:01:54</td>              \r\n",
      "\t\t</tr>\r\n",
      "                    \r\n",
      "\t\t\t \r\n",
      "\t\t<tr>\r\n",
      "\t\t\t<td>美元</td>\r\n",
      "\t\t\t<td>685.91</td>\r\n",
      "\t\t\t\t<td>680.33</td>\r\n",
      "\t\t\t\t<td>688.81</td>\r\n",
      "\t\t\t\t<td>688.81</td>\r\n",
      "\t\t\t\t<td>687.92</td>\r\n",
      "\t\t\t\t<td>2018.10.01 20:54:06</td>              \r\n",
      "\t\t</tr>\r\n",
      "                    \r\n",
      "\t\t\t \r\n",
      "\t\t<tr>\r\n",
      "\t\t\t<td>美元</td>\r\n",
      "\t\t\t<td>685.91</td>\r\n",
      "\t\t\t\t<td>680.33</td>\r\n",
      "\t\t\t\t<td>688.81</td>\r\n",
      "\t\t\t\t<td>688.81</td>\r\n",
      "\t\t\t\t<td>687.92</td>\r\n",
      "\t\t\t\t<td>2018.10.01 20:52:08</td>              \r\n",
      "\t\t</tr>\r\n",
      "                    \r\n",
      "\t\t\t \r\n",
      "\t\t<tr>\r\n",
      "\t\t\t<td>美元</td>\r\n",
      "\t\t\t<td>685.91</td>\r\n",
      "\t\t\t\t<td>680.33</td>\r\n",
      "\t\t\t\t<td>688.81</td>\r\n",
      "\t\t\t\t<td>688.81</td>\r\n",
      "\t\t\t\t<td>687.92</td>\r\n",
      "\t\t\t\t<td>2018.10.01 20:50:20</td>              \r\n",
      "\t\t</tr>\r\n",
      "                    \r\n",
      "\t\t\t \r\n",
      "\t\t<tr>\r\n",
      "\t\t\t<td>美元</td>\r\n",
      "\t\t\t<td>685.91</td>\r\n",
      "\t\t\t\t<td>680.33</td>\r\n",
      "\t\t\t\t<td>688.81</td>\r\n",
      "\t\t\t\t<td>688.81</td>\r\n",
      "\t\t\t\t<td>687.92</td>\r\n",
      "\t\t\t\t<td>2018.10.01 20:49:05</td>              \r\n",
      "\t\t</tr>\r\n",
      "                    \r\n",
      "\t\t\t \r\n",
      "\t\t<tr>\r\n",
      "\t\t\t<td>美元</td>\r\n",
      "\t\t\t<td>685.91</td>\r\n",
      "\t\t\t\t<td>680.33</td>\r\n",
      "\t\t\t\t<td>688.81</td>\r\n",
      "\t\t\t\t<td>688.81</td>\r\n",
      "\t\t\t\t<td>687.92</td>\r\n",
      "\t\t\t\t<td>2018.10.01 20:29:55</td>              \r\n",
      "\t\t</tr>\r\n",
      "                    \r\n",
      "\t\t\t \r\n",
      "\t\t<tr>\r\n",
      "\t\t\t<td>美元</td>\r\n",
      "\t\t\t<td>685.91</td>\r\n",
      "\t\t\t\t<td>680.33</td>\r\n",
      "\t\t\t\t<td>688.81</td>\r\n",
      "\t\t\t\t<td>688.81</td>\r\n",
      "\t\t\t\t<td>687.92</td>\r\n",
      "\t\t\t\t<td>2018.10.01 20:13:26</td>              \r\n",
      "\t\t</tr>\r\n",
      "                    \r\n",
      "\t\t\t \r\n",
      "\t\t<tr>\r\n",
      "\t\t\t<td>美元</td>\r\n",
      "\t\t\t<td>685.91</td>\r\n",
      "\t\t\t\t<td>680.33</td>\r\n",
      "\t\t\t\t<td>688.81</td>\r\n",
      "\t\t\t\t<td>688.81</td>\r\n",
      "\t\t\t\t<td>687.92</td>\r\n",
      "\t\t\t\t<td>2018.10.01 19:53:37</td>              \r\n",
      "\t\t</tr>\r\n",
      "                    \r\n",
      "\t\t\t \r\n",
      "\t\t<tr>\r\n",
      "\t\t\t<td>美元</td>\r\n",
      "\t\t\t<td>685.91</td>\r\n",
      "\t\t\t\t<td>680.33</td>\r\n",
      "\t\t\t\t<td>688.81</td>\r\n",
      "\t\t\t\t<td>688.81</td>\r\n",
      "\t\t\t\t<td>687.92</td>\r\n",
      "\t\t\t\t<td>2018.10.01 19:28:48</td>              \r\n",
      "\t\t</tr>\r\n",
      "                    \r\n",
      "\t\t\t \r\n",
      "\t\t<tr>\r\n",
      "\t\t\t<td>美元</td>\r\n",
      "\t\t\t<td>685.91</td>\r\n",
      "\t\t\t\t<td>680.33</td>\r\n",
      "\t\t\t\t<td>688.81</td>\r\n",
      "\t\t\t\t<td>688.81</td>\r\n",
      "\t\t\t\t<td>687.92</td>\r\n",
      "\t\t\t\t<td>2018.10.01 18:52:06</td>              \r\n",
      "\t\t</tr>\r\n",
      "                    \r\n",
      "\t\t\t \r\n",
      "\t\t<tr>\r\n",
      "\t\t\t<td>美元</td>\r\n",
      "\t\t\t<td>685.91</td>\r\n",
      "\t\t\t\t<td>680.33</td>\r\n",
      "\t\t\t\t<td>688.81</td>\r\n",
      "\t\t\t\t<td>688.81</td>\r\n",
      "\t\t\t\t<td>687.92</td>\r\n",
      "\t\t\t\t<td>2018.10.01 18:04:23</td>              \r\n",
      "\t\t</tr>\r\n",
      "                    \r\n",
      "\t\t\t \r\n",
      "\t\t<tr>\r\n",
      "\t\t\t<td>美元</td>\r\n",
      "\t\t\t<td>685.91</td>\r\n",
      "\t\t\t\t<td>680.33</td>\r\n",
      "\t\t\t\t<td>688.81</td>\r\n",
      "\t\t\t\t<td>688.81</td>\r\n",
      "\t\t\t\t<td>687.92</td>\r\n",
      "\t\t\t\t<td>2018.10.01 17:43:00</td>              \r\n",
      "\t\t</tr>\r\n",
      "                    \r\n",
      "\t\t\t \r\n",
      "\t\t<tr>\r\n",
      "\t\t\t<td>美元</td>\r\n",
      "\t\t\t<td>685.91</td>\r\n",
      "\t\t\t\t<td>680.33</td>\r\n",
      "\t\t\t\t<td>688.81</td>\r\n",
      "\t\t\t\t<td>688.81</td>\r\n",
      "\t\t\t\t<td>687.92</td>\r\n",
      "\t\t\t\t<td>2018.10.01 17:08:10</td>              \r\n",
      "\t\t</tr>\r\n",
      "                    \r\n",
      "\t\t\t \r\n",
      "\t\t<tr>\r\n",
      "\t\t\t<td>美元</td>\r\n",
      "\t\t\t<td>685.91</td>\r\n",
      "\t\t\t\t<td>680.33</td>\r\n",
      "\t\t\t\t<td>688.81</td>\r\n",
      "\t\t\t\t<td>688.81</td>\r\n",
      "\t\t\t\t<td>687.92</td>\r\n",
      "\t\t\t\t<td>2018.10.01 16:18:21</td>              \r\n",
      "\t\t</tr>\r\n",
      "                    \r\n",
      "\t\t\t\r\n",
      "\r\n",
      "<tr>\r\n",
      "\t<td colspan=\"11\" style=\"height:30px;\">&nbsp;</td>\r\n",
      "</tr>\r\n",
      "</table>\r\n",
      "<div class=\"pb_ft clearfix\" style=\"width:500px;clear:both;\">\r\n",
      "\t<div class=\"turn_page\" id=\"list_navigator\" style=\"margin-left:300px;\">\r\n",
      "\t\t\t\t\r\n",
      "\t</div><!--翻页-->\r\n",
      "</div><!--content--end-->\r\n",
      "</div><!--发布-end-->\r\n",
      "<script language=\"JavaScript\">\r\n",
      "\tfunction executeSearch()\r\n",
      "\t{  \r\n",
      "\t\tdocument.historysearchform.method = 'post';  \r\n",
      "\t\tdocument.historysearchform.submit();\r\n",
      "\t} \r\n",
      "\tPageContext.PageNav.go =  function(_iPage,_maxPage)\r\n",
      "\t{\r\n",
      "\t\tdocument.pageform.page.value = _iPage;\r\n",
      "\t\tdocument.pageform.submit();\r\n",
      "\t};\r\n",
      "\t//画分页代码以及自动调整窗口大小\r\n",
      "\tvar m_nRecordCount = 43;\r\n",
      "\tif(m_nRecordCount.length == 0){\r\n",
      "\t\tm_nRecordCount = 0;\r\n",
      "\t}\r\n",
      "\tvar m_nCurrPage = 1;\r\n",
      "\tvar m_nPageSize = 20;\r\n",
      "\tfunction init_list(){\r\n",
      "\t\tPageContext.params[\"RecordNum\"] = m_nRecordCount;\r\n",
      "\t\tPageContext.params[\"CurrPage\"] = m_nCurrPage;\r\n",
      "\t\tPageContext.params[\"PageSize\"] = m_nPageSize;\r\n",
      "\t\tPageContext.drawNavigator(); \r\n",
      "\t}\r\n",
      "\tfunction gotoPage(npage)\r\n",
      "\t{ \r\n",
      "\t\tdocument.pageform.page.value = npage;\r\n",
      "\t\tdocument.pageform.submit();\r\n",
      "\t}\r\n",
      "\tfunction getPage()\r\n",
      "\t{ \r\n",
      "\t \tvar val = document.getElementById(\"currentPage\").value;\r\n",
      "\t \treturn val ;\r\n",
      "\t}\r\n",
      "</script>\r\n",
      "﻿\r\n",
      "<script language=\"JavaScript\" src=\"http://www.bankofchina.com/bottom.js\"></script>\r\n",
      "<script>\r\n",
      "\tcreateBottom();\r\n",
      "</script>\r\n",
      "<form name=\"pageform\" action=\"search.jsp\" method=post > \r\n",
      "\t<input type=\"hidden\" name=\"erectDate\" value=\"2018-10-01 09:00:00\"> \r\n",
      "\t<input type=\"hidden\" name=\"nothing\" value=\"2018-10-01 23:00:00\"> \r\n",
      "\t<INPUT type=\"hidden\" name=\"pjname\" value=\"1316\">  \r\n",
      "\t<input type=\"hidden\" name=\"page\" value=\"1\">  \r\n",
      "</form>  \r\n",
      "</div>\r\n",
      "</body>\r\n",
      "</html> \n"
     ]
    }
   ],
   "source": [
    "import requests\n",
    "\n",
    "params = {'erectDate': '2018-10-01 09:00:00', 'nothing': '2018-10-01 23:00:00', 'pjname':1316}\n",
    "headers = {'user-agent': get_user_agent()}\n",
    "r = requests.get('http://srh.bankofchina.com/search/whpj/search.jsp', params=params, headers=headers)\n",
    "\n",
    "print(r.text)"
   ]
  },
  {
   "cell_type": "markdown",
   "metadata": {},
   "source": [
    "##### 获取网页中指定元素的值"
   ]
  },
  {
   "cell_type": "code",
   "execution_count": 9,
   "metadata": {},
   "outputs": [
    {
     "name": "stdout",
     "output_type": "stream",
     "text": [
      "688.81\n",
      "<title>中国银行外汇牌价</title>\n"
     ]
    }
   ],
   "source": [
    "from bs4 import BeautifulSoup\n",
    "\n",
    "soup = BeautifulSoup(r.text, 'lxml')\n",
    "price = 0.0\n",
    "try:\n",
    "    trs = soup.find(attrs={'class': 'BOC_main publish'}).find_all('tr')\n",
    "    price = trs[1].find_all('td')[4].text\n",
    "    title = soup.title\n",
    "except Exception as err:\n",
    "    print(err)\n",
    "print(price)\n",
    "print(title)"
   ]
  },
  {
   "cell_type": "markdown",
   "metadata": {},
   "source": [
    "#### 汇率数据的提取和清洗\n",
    "汇率数据我们抓取之后存储为csv格式：    \n",
    "`day,price`    \n",
    "每一行存储一个数据，分别是日期、汇率价格。    "
   ]
  },
  {
   "cell_type": "markdown",
   "metadata": {},
   "source": [
    "#### 代码:"
   ]
  },
  {
   "cell_type": "code",
   "execution_count": 16,
   "metadata": {
    "scrolled": false
   },
   "outputs": [],
   "source": [
    "import requests\n",
    "import random\n",
    "import datetime\n",
    "from bs4 import BeautifulSoup\n",
    "\n",
    "user_agents = [\n",
    "    'Mozilla/5.0 (Windows NT 10.0; Win64; x64) AppleWebKit/537.36 (KHTML, like Gecko) Chrome/60.0.3112.113 Safari/537.36',\n",
    "    'Mozilla/5.0 (Windows NT 6.1; Win64; x64) AppleWebKit/537.36 (KHTML, like Gecko) Chrome/60.0.3112.90 Safari/537.36',\n",
    "    'Mozilla/5.0 (X11; Linux x86_64) AppleWebKit/537.36 (KHTML, like Gecko) Chrome/44.0.2403.157 Safari/537.36',\n",
    "    'Mozilla/5.0 (Macintosh; Intel Mac OS X 10_12_6) AppleWebKit/537.36 (KHTML, like Gecko) Chrome/61.0.3163.100 Safari/537.36',\n",
    "    'Mozilla/5.0 (Macintosh; Intel Mac OS X 10_12_5) AppleWebKit/537.36 (KHTML, like Gecko) Chrome/58.0.3029.110 Safari/537.36',\n",
    "    'Mozilla/5.0 (Macintosh; Intel Mac OS X 10_13_6) AppleWebKit/605.1.15 (KHTML, like Gecko) Version/11.1.2 Safari/605.1.15',\n",
    "    'Mozilla/5.0 (Macintosh; Intel Mac OS X 10_13_4) AppleWebKit/605.1.15 (KHTML, like Gecko) Version/11.1 Safari/605.1.15',\n",
    "    'Mozilla/5.0 (Macintosh; Intel Mac OS X 10_13_2) AppleWebKit/604.4.7 (KHTML, like Gecko) Version/11.0.2 Safari/604.4.7',\n",
    "    'Mozilla/5.0 (Macintosh; Intel Mac OS X 10_11_6) AppleWebKit/601.7.8 (KHTML, like Gecko) Version/9.1.3 Safari/601.7.8',\n",
    "    'Mozilla/5.0 (Macintosh; Intel Mac OS X 10_11) AppleWebKit/601.1.56 (KHTML, like Gecko) Version/9.0 Safari/601.1.56'\n",
    "]\n",
    "\n",
    "def get_user_agent():\n",
    "    i = random.randint(0, 9)\n",
    "    return user_agents[i]\n",
    "\n",
    "start_day = datetime.date(2012, 1, 1)\n",
    "end_day = datetime.date(2018, 10, 1)\n",
    "\n",
    "with open('exchange_rate.csv', 'w') as f:\n",
    "    f.write('day,price\\n')\n",
    "    for i in range((end_day-start_day).days+1):\n",
    "        day = start_day + datetime.timedelta(days=i)\n",
    "        erectdate = '{} 00:00:00'.format(day)\n",
    "        nothing = '{} 23:59:59'.format(day)\n",
    "        params = {'erectDate': erectdate, 'nothing': nothing, 'pjname':1316}\n",
    "        headers = {'user-agent': get_user_agent()}\n",
    "        r = requests.get('http://srh.bankofchina.com/search/whpj/search.jsp', params=params, headers=headers)\n",
    "\n",
    "        soup = BeautifulSoup(r.text, 'lxml')\n",
    "        try:\n",
    "            trs = soup.find(attrs={'class': 'BOC_main publish'}).find_all('tr')\n",
    "            price = trs[1].find_all('td')[4].text\n",
    "        except Exception as err:\n",
    "            continue \n",
    "        line = '{},{}\\n'.format(day, price)\n",
    "        f.write(line)\n",
    "print('done')"
   ]
  },
  {
   "cell_type": "markdown",
   "metadata": {},
   "source": [
    "### 国内油价数据的抓取\n",
    "数据来源，[四川汽油价格](https://www.cngold.org/crude/sichuan.html)"
   ]
  },
  {
   "cell_type": "markdown",
   "metadata": {},
   "source": [
    "#### 油价数据的网页结构分析\n",
    "该页面提供了一个四川价格的历史数据表格。        \n",
    "油价以95号汽油价格为抓取对象。"
   ]
  },
  {
   "cell_type": "markdown",
   "metadata": {},
   "source": [
    "#### 油价数据的抓取\n",
    "基于上一节的分析，我们准备每次抓取数据都构建如下的http请求:\n",
    "- url:  https://www.cngold.org/crude/sichuan.html\n",
    "- method: GET\n",
    "- query string: 无\n",
    "- user agent: 随机列表选择"
   ]
  },
  {
   "cell_type": "markdown",
   "metadata": {},
   "source": [
    "#### 油价数据的提取和清洗\n",
    "汇率数据我们抓取之后存储为csv格式：    \n",
    "`day,price`    \n",
    "每一行存储一个数据，分别是日期、95号汽油价格。    "
   ]
  },
  {
   "cell_type": "markdown",
   "metadata": {},
   "source": [
    "#### 代码："
   ]
  },
  {
   "cell_type": "code",
   "execution_count": null,
   "metadata": {},
   "outputs": [],
   "source": [
    "import requests\n",
    "import random\n",
    "from bs4 import BeautifulSoup\n",
    "\n",
    "user_agents = [\n",
    "    'Mozilla/5.0 (Windows NT 10.0; Win64; x64) AppleWebKit/537.36 (KHTML, like Gecko) Chrome/60.0.3112.113 Safari/537.36',\n",
    "    'Mozilla/5.0 (Windows NT 6.1; Win64; x64) AppleWebKit/537.36 (KHTML, like Gecko) Chrome/60.0.3112.90 Safari/537.36',\n",
    "    'Mozilla/5.0 (X11; Linux x86_64) AppleWebKit/537.36 (KHTML, like Gecko) Chrome/44.0.2403.157 Safari/537.36',\n",
    "    'Mozilla/5.0 (Macintosh; Intel Mac OS X 10_12_6) AppleWebKit/537.36 (KHTML, like Gecko) Chrome/61.0.3163.100 Safari/537.36',\n",
    "    'Mozilla/5.0 (Macintosh; Intel Mac OS X 10_12_5) AppleWebKit/537.36 (KHTML, like Gecko) Chrome/58.0.3029.110 Safari/537.36',\n",
    "    'Mozilla/5.0 (Macintosh; Intel Mac OS X 10_13_6) AppleWebKit/605.1.15 (KHTML, like Gecko) Version/11.1.2 Safari/605.1.15',\n",
    "    'Mozilla/5.0 (Macintosh; Intel Mac OS X 10_13_4) AppleWebKit/605.1.15 (KHTML, like Gecko) Version/11.1 Safari/605.1.15',\n",
    "    'Mozilla/5.0 (Macintosh; Intel Mac OS X 10_13_2) AppleWebKit/604.4.7 (KHTML, like Gecko) Version/11.0.2 Safari/604.4.7',\n",
    "    'Mozilla/5.0 (Macintosh; Intel Mac OS X 10_11_6) AppleWebKit/601.7.8 (KHTML, like Gecko) Version/9.1.3 Safari/601.7.8',\n",
    "    'Mozilla/5.0 (Macintosh; Intel Mac OS X 10_11) AppleWebKit/601.1.56 (KHTML, like Gecko) Version/9.0 Safari/601.1.56'\n",
    "]\n",
    "\n",
    "def get_user_agent():\n",
    "    i = random.randint(0, 9)\n",
    "    return user_agents[i]\n",
    "\n",
    "headers = {'user-agent': get_user_agent()}\n",
    "r = requests.get('https://www.cngold.org/crude/sichuan.html', headers=headers)\n",
    "r.encoding = 'utf-8'\n",
    "\n",
    "soup = BeautifulSoup(r.text, 'lxml')\n",
    "trs = soup.find(id='oilTable').find_all('tr')\n",
    "with open('oil_price.csv', 'w') as f:\n",
    "    f.write('day,price\\n')\n",
    "    for tr in trs[2:]:\n",
    "        tds = tr.find_all('td')\n",
    "        day = tds[0].text.strip().replace('年','-').replace('月', '-').replace('日', '')\n",
    "        price = tds[5].text.strip()\n",
    "        line = '{},{}\\n'.format(day, price)\n",
    "        f.write(line)\n",
    "print('done')"
   ]
  },
  {
   "cell_type": "markdown",
   "metadata": {},
   "source": [
    "## 数据处理\n",
    "为了能够绘出各种图标和曲线，我们需要使用工具库对数据进行预处理，使其能被绘图库的函数所接受。"
   ]
  },
  {
   "cell_type": "markdown",
   "metadata": {},
   "source": [
    "## 数据分析"
   ]
  },
  {
   "cell_type": "markdown",
   "metadata": {},
   "source": [
    "### 我们应该画一个什么样的图形\n",
    "我们的目标是想通过直观的图形表示来观察汇率和油价是否存在某种关联，所以绘制一个什么样的图形也很重要。    \n",
    "比如图形的横坐标和纵坐标分辨是什么？这是需要大家思考和定义的。    \n",
    "在这里我们首先画两个最直观的曲线图，就是汇率和油价随着时间的变化。\n",
    "接着我们画出汇率和油价的增幅随着时间的变化。"
   ]
  },
  {
   "cell_type": "markdown",
   "metadata": {},
   "source": [
    "### 我们需要准备你想绘制图形的数据\n",
    "在明确了你需要绘制的图形的各个输入变量，你得把你获取的数据重新整理和加工成符合条件的输入。    \n",
    "为了不对目标网站造成流量增加的问题，我们直接利用之前抓取并保存的数据来进行后续的工作。我们需要从csv文件中读取数据，并作一定的处理：\n",
    "- 对于汇率数据，如果某一天的数据有缺失，则使用前一天的数据进行填充。\n",
    "- 对于油价数据，由于抓取的数据给出的日期是离散的，我们采取如下的策略来填充数据：如果8月1日油价为7.03元，8月20日油价变为7.45元，则认为8月2日-8月19日期间油价为7.03元。\n",
    "- 计算变化率，其中变化率的定义为： *(当天值-昨天值)/昨天值*"
   ]
  },
  {
   "cell_type": "markdown",
   "metadata": {},
   "source": [
    "### 时间序列曲线图 价格随时间变化\n",
    "用pandas读取csv数据，在这一个小节的绘图中，我们没有对缺失的时间做任何填充。"
   ]
  },
  {
   "cell_type": "code",
   "execution_count": 1,
   "metadata": {},
   "outputs": [
    {
     "name": "stdout",
     "output_type": "stream",
     "text": [
      "             day   price\n",
      "0     2012-01-01  629.93\n",
      "1     2012-01-02  629.93\n",
      "2     2012-01-03  629.93\n",
      "3     2012-01-04  630.53\n",
      "4     2012-01-05  631.31\n",
      "5     2012-01-06  631.74\n",
      "6     2012-01-07  631.74\n",
      "7     2012-01-08  631.74\n",
      "8     2012-01-09  632.44\n",
      "9     2012-01-10  632.34\n",
      "10    2012-01-11  632.84\n",
      "11    2012-01-12  632.94\n",
      "12    2012-01-13  631.63\n",
      "13    2012-01-14  631.63\n",
      "14    2012-01-15  631.63\n",
      "15    2012-01-16  632.34\n",
      "16    2012-01-17  632.29\n",
      "17    2012-01-18  632.34\n",
      "18    2012-01-19  632.74\n",
      "19    2012-01-20  634.04\n",
      "20    2012-01-21  633.14\n",
      "21    2012-01-22  633.14\n",
      "22    2012-01-23  633.14\n",
      "23    2012-01-24  633.14\n",
      "24    2012-01-25  633.14\n",
      "25    2012-01-26  633.14\n",
      "26    2012-01-27  633.14\n",
      "27    2012-01-28  633.14\n",
      "28    2012-01-29  632.34\n",
      "29    2012-01-30  634.14\n",
      "...          ...     ...\n",
      "2431  2018-09-02  684.71\n",
      "2432  2018-09-03  683.95\n",
      "2433  2018-09-04  686.06\n",
      "2434  2018-09-05  684.61\n",
      "2435  2018-09-06  685.01\n",
      "2436  2018-09-07  685.96\n",
      "2437  2018-09-08  685.96\n",
      "2438  2018-09-09  685.96\n",
      "2439  2018-09-10  687.31\n",
      "2440  2018-09-11  689.07\n",
      "2441  2018-09-12  686.31\n",
      "2442  2018-09-13  685.76\n",
      "2443  2018-09-14  688.11\n",
      "2444  2018-09-15  688.11\n",
      "2445  2018-09-16  688.11\n",
      "2446  2018-09-17  687.41\n",
      "2447  2018-09-18  687.61\n",
      "2448  2018-09-19  686.71\n",
      "2449  2018-09-20  686.31\n",
      "2450  2018-09-21  687.16\n",
      "2451  2018-09-22  687.16\n",
      "2452  2018-09-23  687.16\n",
      "2453  2018-09-24  687.41\n",
      "2454  2018-09-25  688.31\n",
      "2455  2018-09-26  689.42\n",
      "2456  2018-09-27  690.52\n",
      "2457  2018-09-28  688.51\n",
      "2458  2018-09-29  688.01\n",
      "2459  2018-09-30  688.56\n",
      "2460  2018-10-01  688.81\n",
      "\n",
      "[2461 rows x 2 columns]\n",
      "            day  price\n",
      "0    2018-09-18   8.28\n",
      "1    2018-09-04   8.15\n",
      "2    2018-08-24   8.00\n",
      "3    2018-08-21   8.09\n",
      "4    2018-08-08   8.04\n",
      "5    2018-07-27   7.98\n",
      "6    2018-07-12   8.09\n",
      "7    2018-07-02   7.86\n",
      "8    2018-06-12   7.91\n",
      "9    2018-05-30   8.02\n",
      "10   2018-05-14   7.80\n",
      "11   2018-05-02   7.65\n",
      "12   2018-04-27   7.71\n",
      "13   2018-04-16   7.50\n",
      "14   2018-03-29   7.45\n",
      "15   2018-03-02   7.34\n",
      "16   2018-03-01   7.56\n",
      "17   2018-02-28   7.34\n",
      "18   2018-02-27   7.56\n",
      "19   2018-02-24   7.34\n",
      "20   2018-02-23   7.56\n",
      "21   2018-02-22   7.56\n",
      "22   2018-02-21   7.56\n",
      "23   2018-02-20   7.34\n",
      "24   2018-02-19   7.56\n",
      "25   2018-02-17   7.34\n",
      "26   2018-02-16   7.34\n",
      "27   2018-02-15   7.56\n",
      "28   2018-02-14   7.56\n",
      "29   2018-02-13   7.56\n",
      "..          ...    ...\n",
      "146  2015-04-27   6.86\n",
      "147  2015-04-11   6.61\n",
      "148  2015-03-27   6.51\n",
      "149  2015-02-28   6.71\n",
      "150  2015-02-10   6.38\n",
      "151  2015-02-03   6.13\n",
      "152  2014-12-29   6.60\n",
      "153  2014-12-15   7.04\n",
      "154  2014-11-17   7.18\n",
      "155  2014-11-03   7.34\n",
      "156  2014-10-20   7.55\n",
      "157  2014-08-19   8.10\n",
      "158  2014-07-22   8.26\n",
      "159  2014-06-24   8.47\n",
      "160  2014-02-27   8.30\n",
      "161  2014-01-06   7.91\n",
      "162  2013-11-15   7.91\n",
      "163  2013-10-08   8.11\n",
      "164  2013-09-16   8.31\n",
      "165  2013-08-31   8.04\n",
      "166  2013-07-22   8.04\n",
      "167  2013-07-10   7.76\n",
      "168  2013-06-07   7.74\n",
      "169  2013-05-10   7.71\n",
      "170  2013-04-25   7.63\n",
      "171  2013-03-27   7.97\n",
      "172  2013-02-25   7.98\n",
      "173  2012-11-16   7.98\n",
      "174  2012-09-11   8.24\n",
      "175  2012-09-05   7.78\n",
      "\n",
      "[176 rows x 2 columns]\n",
      "            day  price\n",
      "175  2012-09-05   7.78\n",
      "174  2012-09-11   8.24\n",
      "173  2012-11-16   7.98\n",
      "172  2013-02-25   7.98\n",
      "171  2013-03-27   7.97\n",
      "170  2013-04-25   7.63\n",
      "169  2013-05-10   7.71\n",
      "168  2013-06-07   7.74\n",
      "167  2013-07-10   7.76\n",
      "166  2013-07-22   8.04\n",
      "165  2013-08-31   8.04\n",
      "164  2013-09-16   8.31\n",
      "163  2013-10-08   8.11\n",
      "162  2013-11-15   7.91\n",
      "161  2014-01-06   7.91\n",
      "160  2014-02-27   8.30\n",
      "159  2014-06-24   8.47\n",
      "158  2014-07-22   8.26\n",
      "157  2014-08-19   8.10\n",
      "156  2014-10-20   7.55\n",
      "155  2014-11-03   7.34\n",
      "154  2014-11-17   7.18\n",
      "153  2014-12-15   7.04\n",
      "152  2014-12-29   6.60\n",
      "151  2015-02-03   6.13\n",
      "150  2015-02-10   6.38\n",
      "149  2015-02-28   6.71\n",
      "148  2015-03-27   6.51\n",
      "147  2015-04-11   6.61\n",
      "146  2015-04-27   6.86\n",
      "..          ...    ...\n",
      "29   2018-02-13   7.56\n",
      "28   2018-02-14   7.56\n",
      "27   2018-02-15   7.56\n",
      "26   2018-02-16   7.34\n",
      "25   2018-02-17   7.34\n",
      "24   2018-02-19   7.56\n",
      "23   2018-02-20   7.34\n",
      "22   2018-02-21   7.56\n",
      "21   2018-02-22   7.56\n",
      "20   2018-02-23   7.56\n",
      "19   2018-02-24   7.34\n",
      "18   2018-02-27   7.56\n",
      "17   2018-02-28   7.34\n",
      "16   2018-03-01   7.56\n",
      "15   2018-03-02   7.34\n",
      "14   2018-03-29   7.45\n",
      "13   2018-04-16   7.50\n",
      "12   2018-04-27   7.71\n",
      "11   2018-05-02   7.65\n",
      "10   2018-05-14   7.80\n",
      "9    2018-05-30   8.02\n",
      "8    2018-06-12   7.91\n",
      "7    2018-07-02   7.86\n",
      "6    2018-07-12   8.09\n",
      "5    2018-07-27   7.98\n",
      "4    2018-08-08   8.04\n",
      "3    2018-08-21   8.09\n",
      "2    2018-08-24   8.00\n",
      "1    2018-09-04   8.15\n",
      "0    2018-09-18   8.28\n",
      "\n",
      "[176 rows x 2 columns]\n"
     ]
    }
   ],
   "source": [
    "import pandas as pd\n",
    "\n",
    "exchange_data = pd.read_csv('exchange_rate.csv')\n",
    "print(exchange_data)\n",
    "\n",
    "oil_data = pd.read_csv('oil_price.csv')\n",
    "print(oil_data)\n",
    "oil_data = oil_data.sort_values(by='day', ascending=True)\n",
    "print(oil_data)"
   ]
  },
  {
   "cell_type": "markdown",
   "metadata": {},
   "source": [
    "随着时间变化的汇率和油价曲线图"
   ]
  },
  {
   "cell_type": "code",
   "execution_count": null,
   "metadata": {},
   "outputs": [],
   "source": [
    "import matplotlib.pylab as plt\n",
    "import pylab\n",
    "# pylab.rcParams['figure.figsize'] = (20.0, 10.0)\n",
    "\n",
    "exchange_data.plot('day', 'price')\n",
    "oil_data.plot('day', 'price')\n",
    "plt.show()"
   ]
  },
  {
   "cell_type": "markdown",
   "metadata": {},
   "source": [
    "### 时间序列曲线图 涨幅随时间变化\n",
    "在上一节中我们描绘出了汇率价格、油价随着时间变化的曲线图。    \n",
    "我们需要用不同类型的图形或曲线来探索同样的问题，因此我们再来看看汇率价格波动、油价价格波动随着时间变化的曲线图。  \n",
    "首先，我们需要对现有的数据中缺失的日期进行数据填充。"
   ]
  },
  {
   "cell_type": "code",
   "execution_count": 20,
   "metadata": {},
   "outputs": [
    {
     "data": {
      "image/png": "[encoded data removed]",
      "text/plain": [
       "<Figure size 432x288 with 1 Axes>"
      ]
     },
     "metadata": {},
     "output_type": "display_data"
    },
    {
     "data": {
      "image/png": "[encoded data removed]",
      "text/plain": [
       "<Figure size 432x288 with 1 Axes>"
      ]
     },
     "metadata": {},
     "output_type": "display_data"
    }
   ],
   "source": [
    "import datetime\n",
    "\n",
    "start_day = datetime.date(2012, 1, 1)\n",
    "end_day = datetime.date(2018, 10, 1)\n",
    "\n",
    "# key:day value:price\n",
    "mdict = {}\n",
    "for rec in exchange_data.values:\n",
    "    mdict[rec[0]] = rec[1]    \n",
    "odict = {}\n",
    "for rec in oil_data.values:\n",
    "    odict[rec[0]] = rec[1]\n",
    "\n",
    "# day,money_price,oil_price,money_price_change,oil_price_change\n",
    "data = []\n",
    "last_mp = 629.93\n",
    "last_op = 7.78\n",
    "for i in range((end_day-start_day).days+1):\n",
    "    day = start_day + datetime.timedelta(days=i)\n",
    "    \n",
    "    mp = mdict.get(str(day))\n",
    "    if mp == None:\n",
    "        mp = last_mp\n",
    "    mpc = (mp-last_mp)/last_mp\n",
    "    last_mp = mp\n",
    "    \n",
    "    op = odict.get(str(day))\n",
    "    if op == None:\n",
    "        op = last_op\n",
    "    opc = (op-last_op)/last_op\n",
    "    last_op = op\n",
    "    \n",
    "    row = {'day': str(day), 'mp': mp, 'op': op, 'mpc': mpc, 'opc': opc}\n",
    "    data.append(row)\n",
    "    \n",
    "df = pd.DataFrame(data)\n",
    "df.plot('day', 'mp')\n",
    "df.plot('day', 'op')\n",
    "plt.show()"
   ]
  },
  {
   "cell_type": "code",
   "execution_count": 21,
   "metadata": {},
   "outputs": [
    {
     "data": {
      "image/png": "[encoded data removed]",
      "text/plain": [
       "<Figure size 432x288 with 1 Axes>"
      ]
     },
     "metadata": {},
     "output_type": "display_data"
    },
    {
     "data": {
      "image/png": "[encoded data removed]",
      "text/plain": [
       "<Figure size 432x288 with 1 Axes>"
      ]
     },
     "metadata": {},
     "output_type": "display_data"
    }
   ],
   "source": [
    "df.plot('day', 'mpc')\n",
    "df.plot('day', 'opc')\n",
    "plt.show()"
   ]
  },
  {
   "cell_type": "markdown",
   "metadata": {},
   "source": [
    "## 机器学习"
   ]
  },
  {
   "cell_type": "markdown",
   "metadata": {},
   "source": [
    "### 学习样本和测试样本的准备\n",
    "需要对数据进行目标输出的标定，也就是对输出值进行定义。    \n",
    "我们将油价从6.00-9.00这个区间，以0.20为一个步长，分割成15个等级，分别设置为对应的等级数字，学习模型的输出就是对预测值分布在这15个等级的打分。    \n",
    "输入定义：汇率日期、汇率价格、汇率的波动值，一个1x3的向量。   \n",
    "数据分割：我们把2012-01-01至2018-10-01的数据分割为两部分，使用2：1的比例分配。训练数据占2/3，测试数据占1/3。"
   ]
  },
  {
   "cell_type": "markdown",
   "metadata": {},
   "source": [
    "#### 输出结果定义\n",
    "定义油价的区间。    \n",
    "我们将油价从6.00-9.00这个区间，以0.20为一个步长，分割成15个等级，分别设置为对应的等级数字，从0-14。在下面的代码中，0-14对应数组的索引值。"
   ]
  },
  {
   "cell_type": "code",
   "execution_count": 22,
   "metadata": {},
   "outputs": [
    {
     "name": "stdout",
     "output_type": "stream",
     "text": [
      "['6.0-6.2', '6.2-6.4', '6.4-6.6', '6.6-6.8', '6.8-7.0', '7.0-7.2', '7.2-7.4', '7.4-7.6', '7.6-7.8', '7.8-8.0', '8.0-8.2', '8.2-8.4', '8.4-8.6', '8.6-8.8', '8.8-9.0']\n"
     ]
    }
   ],
   "source": [
    "import numpy as np\n",
    "\n",
    "# define price range\n",
    "# 0|6.0-6.2 1|6.2-6.4 2|6.4-6.6 ...\n",
    "oil_price_range = []\n",
    "for x in np.arange(6.0, 9.0, 0.2):\n",
    "    oil_price_range.append('{:.2}-{:.2}'.format(x, x+0.2))\n",
    "print(oil_price_range)"
   ]
  },
  {
   "cell_type": "markdown",
   "metadata": {},
   "source": [
    "#### 训练和测试数据的准备\n",
    "我们把2012-01-01至2018-10-01的数据分割为两部分，使用2：1的比例分配。训练数据占2/3，测试数据占1/3。"
   ]
  },
  {
   "cell_type": "markdown",
   "metadata": {},
   "source": [
    "##### 按照2:1概率分配数据的函数\n",
    "定义一个函数，用来确定给定的数据是进入训练数据集还是测试数据集，且分布几率为2：1。"
   ]
  },
  {
   "cell_type": "code",
   "execution_count": 23,
   "metadata": {},
   "outputs": [
    {
     "name": "stdout",
     "output_type": "stream",
     "text": [
      "yes_count:34 | no_count:16 | yes/no:2.125\n"
     ]
    }
   ],
   "source": [
    "import random\n",
    "\n",
    "def go_to_training_set():\n",
    "    i = random.randint(0, 2)\n",
    "    return True if i < 2 else False\n",
    "\n",
    "yes_count = 0\n",
    "no_count = 0\n",
    "\n",
    "# Adjust the value of the parameter to see what happens?\n",
    "for x in range(0, 50):\n",
    "    b = go_to_training_set()\n",
    "    if b:\n",
    "        yes_count += 1\n",
    "    else:\n",
    "        no_count += 1\n",
    "\n",
    "print('yes_count:{} | no_count:{} | yes/no:{}'.format(yes_count, no_count, yes_count/no_count))\n",
    "    "
   ]
  },
  {
   "cell_type": "markdown",
   "metadata": {},
   "source": [
    "##### 给出一个油价值，获取其所在区间的索引值"
   ]
  },
  {
   "cell_type": "code",
   "execution_count": 24,
   "metadata": {},
   "outputs": [
    {
     "name": "stdout",
     "output_type": "stream",
     "text": [
      "0\n",
      "1\n",
      "1\n",
      "14\n"
     ]
    }
   ],
   "source": [
    "def get_lable_of_oil_price(price):\n",
    "    return int((price-6.0)/0.2)\n",
    "\n",
    "print(get_lable_of_oil_price(6.12))\n",
    "print(get_lable_of_oil_price(6.20))\n",
    "print(get_lable_of_oil_price(6.22))\n",
    "print(get_lable_of_oil_price(8.88))\n"
   ]
  },
  {
   "cell_type": "markdown",
   "metadata": {},
   "source": [
    "##### 训练数据和测试数据的准备\n",
    "生成原始数据，并将原始数据映射到0-1区间"
   ]
  },
  {
   "cell_type": "code",
   "execution_count": 25,
   "metadata": {},
   "outputs": [],
   "source": [
    "import datetime\n",
    "\n",
    "start_day = datetime.date(2012, 1, 1)\n",
    "end_day = datetime.date(2018, 10, 1)\n",
    "\n",
    "# key:day value:price\n",
    "mdict = {}\n",
    "for rec in exchange_data.values:\n",
    "    mdict[rec[0]] = rec[1]    \n",
    "odict = {}\n",
    "for rec in oil_data.values:\n",
    "    odict[rec[0]] = rec[1]\n",
    "    \n",
    "# training data\n",
    "train_data = []\n",
    "train_labels = []\n",
    "# test data\n",
    "test_data = []\n",
    "test_labels = []\n",
    "\n",
    "last_mp = 629.93\n",
    "last_op = 7.78\n",
    "total_days = (end_day-start_day).days+1 \n",
    "for i in range(total_days):\n",
    "    day = start_day + datetime.timedelta(days=i)\n",
    "    \n",
    "    mp = mdict.get(str(day))\n",
    "    if mp == None:\n",
    "        mp = last_mp\n",
    "    mpc = (mp-last_mp)/last_mp\n",
    "    last_mp = mp\n",
    "    \n",
    "    op = odict.get(str(day))\n",
    "    if op == None:\n",
    "        op = last_op\n",
    "    last_op = op\n",
    "    \n",
    "    i_day = i/total_days\n",
    "    i_mp = mp/1000\n",
    "    if go_to_training_set():\n",
    "        train_data.append((i_day, i_mp, mpc))\n",
    "        train_labels.append(get_lable_of_oil_price(op))\n",
    "    else:\n",
    "        test_data.append((i_day, i_mp, mpc))\n",
    "        test_labels.append(get_lable_of_oil_price(op))\n",
    "    "
   ]
  },
  {
   "cell_type": "markdown",
   "metadata": {},
   "source": [
    "##### 将python原生列表转化为numpy矩阵"
   ]
  },
  {
   "cell_type": "code",
   "execution_count": 26,
   "metadata": {},
   "outputs": [
    {
     "name": "stdout",
     "output_type": "stream",
     "text": [
      "(1628, 3)\n",
      "(1628,)\n"
     ]
    }
   ],
   "source": [
    "import numpy as np\n",
    "\n",
    "np_train_data = np.array(train_data)\n",
    "np_train_labels = np.array(train_labels)\n",
    "\n",
    "np_test_data = np.array(test_data)\n",
    "np_test_labels = np.array(test_labels)\n",
    "\n",
    "print(np_train_data.shape)\n",
    "print(np_train_labels.shape)\n"
   ]
  },
  {
   "cell_type": "markdown",
   "metadata": {},
   "source": [
    "### 模型学习和训练"
   ]
  },
  {
   "cell_type": "markdown",
   "metadata": {},
   "source": [
    "#### 设置神经网络\n",
    "下面的代码设置了一个神经网络模型，用了2层。    \n",
    "第一层构建了具有128个神经元的神经网络。    \n",
    "第二层用于对输入数据做0-14的打分，以确定其属于不同区间的概率。    \n",
    "其中：   \n",
    "- relu用于隐层神经元输出\n",
    "- softmax用于多分类神经网络的输出\n",
    "\n",
    "总之你可以理解为模拟人脑思维和分析的过程，采用不同的方式不停的去辨析数据。"
   ]
  },
  {
   "cell_type": "code",
   "execution_count": 27,
   "metadata": {},
   "outputs": [],
   "source": [
    "import tensorflow as tf\n",
    "from tensorflow import keras\n",
    "\n",
    "model = keras.Sequential([\n",
    "    keras.layers.Dense(128, activation=tf.nn.relu),\n",
    "    keras.layers.Dense(15, activation=tf.nn.softmax)\n",
    "])"
   ]
  },
  {
   "cell_type": "markdown",
   "metadata": {},
   "source": [
    "#### 生成神经网络\n",
    "在上一节中我们设置了所使用的神经网络的初始化参数，我们现在用这些参数生成一个真正可用的神经网络。    \n",
    "其中的参数你可以理解是为了保证神经网络用最靠谱的方式去分析数据所做的约束。"
   ]
  },
  {
   "cell_type": "code",
   "execution_count": 28,
   "metadata": {},
   "outputs": [],
   "source": [
    "model.compile(optimizer=tf.train.AdamOptimizer(), \n",
    "              loss='sparse_categorical_crossentropy',\n",
    "              metrics=['accuracy'])"
   ]
  },
  {
   "cell_type": "markdown",
   "metadata": {},
   "source": [
    "#### 训练这个模型"
   ]
  },
  {
   "cell_type": "code",
   "execution_count": 29,
   "metadata": {},
   "outputs": [
    {
     "name": "stdout",
     "output_type": "stream",
     "text": [
      "Epoch 1/10\n",
      "1628/1628 [==============================] - 0s 153us/step - loss: 2.6082 - acc: 0.1179\n",
      "Epoch 2/10\n",
      "1628/1628 [==============================] - 0s 34us/step - loss: 2.4500 - acc: 0.1474\n",
      "Epoch 3/10\n",
      "1628/1628 [==============================] - 0s 30us/step - loss: 2.3343 - acc: 0.1929\n",
      "Epoch 4/10\n",
      "1628/1628 [==============================] - 0s 30us/step - loss: 2.2509 - acc: 0.2346\n",
      "Epoch 5/10\n",
      "1628/1628 [==============================] - 0s 31us/step - loss: 2.1848 - acc: 0.2310\n",
      "Epoch 6/10\n",
      "1628/1628 [==============================] - 0s 29us/step - loss: 2.1372 - acc: 0.2316\n",
      "Epoch 7/10\n",
      "1628/1628 [==============================] - 0s 30us/step - loss: 2.0969 - acc: 0.2371\n",
      "Epoch 8/10\n",
      "1628/1628 [==============================] - 0s 32us/step - loss: 2.0679 - acc: 0.2555\n",
      "Epoch 9/10\n",
      "1628/1628 [==============================] - 0s 34us/step - loss: 2.0412 - acc: 0.2832\n",
      "Epoch 10/10\n",
      "1628/1628 [==============================] - 0s 37us/step - loss: 2.0194 - acc: 0.2494\n"
     ]
    },
    {
     "data": {
      "text/plain": [
       "<tensorflow.python.keras.callbacks.History at 0x121f8ec88>"
      ]
     },
     "execution_count": 29,
     "metadata": {},
     "output_type": "execute_result"
    }
   ],
   "source": [
    "model.fit(np_train_data, np_train_labels, epochs=10)"
   ]
  },
  {
   "cell_type": "markdown",
   "metadata": {},
   "source": [
    "### 模型校验\n",
    "测试这个模型，评估准确性"
   ]
  },
  {
   "cell_type": "code",
   "execution_count": 30,
   "metadata": {},
   "outputs": [
    {
     "name": "stdout",
     "output_type": "stream",
     "text": [
      "838/838 [==============================] - 0s 86us/step\n",
      "Test loss: 2.018947271856886\n",
      "Test accuracy: 0.2947494033412888\n"
     ]
    }
   ],
   "source": [
    "test_loss, test_acc = model.evaluate(np_test_data, np_test_labels)\n",
    "print('Test loss:', test_loss)\n",
    "print('Test accuracy:', test_acc)"
   ]
  },
  {
   "cell_type": "markdown",
   "metadata": {},
   "source": [
    "### 模型的实践\n",
    "我们来实际查看下模型的预测是否与已有的测试数据吻合"
   ]
  },
  {
   "cell_type": "code",
   "execution_count": 31,
   "metadata": {},
   "outputs": [
    {
     "name": "stdout",
     "output_type": "stream",
     "text": [
      "[3.7879462e-03 4.2337282e-03 2.8338081e-03 2.1111718e-03 1.9442720e-03\n",
      " 5.1059988e-03 1.0012861e-03 1.3267536e-03 5.7341975e-01 1.8762700e-01\n",
      " 4.7941338e-02 1.6111834e-01 6.4666732e-03 5.8322097e-04 4.9875613e-04]\n",
      "8\n",
      "8\n",
      "[0.01325104 0.0136924  0.00920641 0.00700903 0.00718345 0.01427562\n",
      " 0.00383437 0.00412165 0.41034856 0.22136132 0.08453147 0.19799113\n",
      " 0.01106584 0.00113143 0.00099612]\n",
      "8\n",
      "9\n",
      "[0.12813623 0.10962588 0.07249646 0.05695911 0.08075279 0.07556511\n",
      " 0.04671289 0.02876505 0.05059417 0.1036268  0.12556577 0.10318618\n",
      " 0.01409984 0.0020097  0.00190403]\n",
      "0\n",
      "4\n",
      "[0.16338003 0.13251792 0.08736938 0.06930117 0.1093339  0.0822931\n",
      " 0.06448716 0.03356671 0.02057695 0.06111654 0.10141191 0.06167584\n",
      " 0.01003804 0.00149068 0.00144073]\n",
      "0\n",
      "0\n",
      "[0.03153902 0.03089601 0.02074588 0.01600045 0.01794006 0.028681\n",
      " 0.0098613  0.00903643 0.27764434 0.21982244 0.11698519 0.20270617\n",
      " 0.01491172 0.00169948 0.00153044]\n",
      "8\n",
      "10\n",
      "acc percent: 0.2947494033412888\n"
     ]
    }
   ],
   "source": [
    "predictions = model.predict(np_test_data)\n",
    "\n",
    "print(predictions[0])\n",
    "print(np.argmax(predictions[0]))\n",
    "print(np_test_labels[0])\n",
    "\n",
    "print(predictions[100])\n",
    "print(np.argmax(predictions[100]))\n",
    "print(np_test_labels[100])\n",
    "\n",
    "print(predictions[400])\n",
    "print(np.argmax(predictions[400]))\n",
    "print(np_test_labels[400])\n",
    "\n",
    "print(predictions[500])\n",
    "print(np.argmax(predictions[500]))\n",
    "print(np_test_labels[500])\n",
    "\n",
    "print(predictions[200])\n",
    "print(np.argmax(predictions[200]))\n",
    "print(np_test_labels[200])\n",
    "\n",
    "acc_count = 0;\n",
    "for i in range(0, len(predictions)):\n",
    "    p = np.argmax(predictions[i])\n",
    "    r = np_test_labels[i]\n",
    "    if p == r:\n",
    "        acc_count += 1;\n",
    "\n",
    "print('acc percent: {}'.format(acc_count/len(predictions)))"
   ]
  },
  {
   "cell_type": "markdown",
   "metadata": {},
   "source": [
    "可以看出这个得出的acc的百分比和之前模型评估得出的正确率吻合。    \n",
    "造成这个的原因是数据量过少，且95号油价的数据在2012年-2014年段有问题，造成数据训练的误差。当然也可能是我们不知道的一些因素造成的。    \n",
    "在机器学习的工程实践中，调参很重要，主要是以下几个步骤的数据调整会影响训练效果：\n",
    "1. 输入数据特征值的设定\n",
    "2. 神经网络参数的设置"
   ]
  },
  {
   "cell_type": "markdown",
   "metadata": {},
   "source": [
    "## 总结\n",
    "通过本课程的学习，也只能让同学们大体的了解下可以运用python语言、相关的第三方大量成熟工具库和主流机器学习库能做什么事情。    \n",
    "希望能够起到抛砖引玉的效果。    \n",
    "科学是文明发展的基石，数学是科学的基础，语言是让科学传播的载体，希望大家好好学习，天天向上。    \n",
    "谢谢！"
   ]
  }
 ],
 "metadata": {
  "kernelspec": {
   "display_name": "Python 3",
   "language": "python",
   "name": "python3"
  },
  "language_info": {
   "codemirror_mode": {
    "name": "ipython",
    "version": 3
   },
   "file_extension": ".py",
   "mimetype": "text/x-python",
   "name": "python",
   "nbconvert_exporter": "python",
   "pygments_lexer": "ipython3",
   "version": "3.6.5"
  },
  "latex_envs": {
   "LaTeX_envs_menu_present": true,
   "autoclose": false,
   "autocomplete": true,
   "bibliofile": "biblio.bib",
   "cite_by": "apalike",
   "current_citInitial": 1,
   "eqLabelWithNumbers": true,
   "eqNumInitial": 1,
   "hotkeys": {
    "equation": "Ctrl-E",
    "itemize": "Ctrl-I"
   },
   "labels_anchors": false,
   "latex_user_defs": false,
   "report_style_numbering": false,
   "user_envs_cfg": false
  },
  "nbTranslate": {
   "displayLangs": [
    "*"
   ],
   "hotkey": "alt-t",
   "langInMainMenu": true,
   "sourceLang": "en",
   "targetLang": "fr",
   "useGoogleTranslate": true
  }
 },
 "nbformat": 4,
 "nbformat_minor": 2
}
