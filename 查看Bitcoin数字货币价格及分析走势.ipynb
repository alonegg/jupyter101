{
 "cells": [
  {
   "cell_type": "markdown",
   "metadata": {},
   "source": [
    "#  pands scrapt data from web\n",
    "---\n",
    "* 使用pandas的功能直接抓取网页数据\n",
    "* TODO 将抓取的数据存成文件用于分析"
   ]
  },
  {
   "cell_type": "code",
   "execution_count": 16,
   "metadata": {},
   "outputs": [],
   "source": [
    "import pandas as pd\n",
    "import sys\n",
    "import time\n",
    "import html5lib\n",
    "import matplotlib as plt"
   ]
  },
  {
   "cell_type": "code",
   "execution_count": 19,
   "metadata": {},
   "outputs": [],
   "source": [
    "startdate = \"20130101\"\n",
    "enddate = \"20181210\""
   ]
  },
  {
   "cell_type": "code",
   "execution_count": 20,
   "metadata": {
    "nbgrader": {
     "grade": false,
     "grade_id": "cell-623d5c43f6319524",
     "locked": false,
     "schema_version": 1,
     "solution": true
    }
   },
   "outputs": [],
   "source": [
    "url = 'https://coinmarketcap.com/currencies/bitcoin/historical-data/?start='+startdate+'&end='+enddate"
   ]
  },
  {
   "cell_type": "code",
   "execution_count": 21,
   "metadata": {},
   "outputs": [],
   "source": [
    "#df_list = pd.read_html(url)\n",
    "bitcoin_market_info = pd.read_html(url)"
   ]
  },
  {
   "cell_type": "code",
   "execution_count": 22,
   "metadata": {},
   "outputs": [
    {
     "data": {
      "text/plain": [
       "[              Date    Open*     High      Low  Close**      Volume  \\\n",
       " 0     Dec 09, 2018  3473.23  3685.31  3469.09  3614.23  4947372847   \n",
       " 1     Dec 08, 2018  3421.91  3506.04  3350.65  3476.11  5305024497   \n",
       " 2     Dec 07, 2018  3512.59  3512.59  3280.23  3419.94  6835615448   \n",
       " 3     Dec 06, 2018  3754.07  3874.97  3521.10  3521.10  5878333109   \n",
       " 4     Dec 05, 2018  3958.89  3969.54  3753.99  3753.99  5302481574   \n",
       " 5     Dec 04, 2018  3886.29  4075.63  3832.75  3956.89  5028069239   \n",
       " 6     Dec 03, 2018  4147.32  4155.98  3840.45  3894.13  5089570994   \n",
       " 7     Dec 02, 2018  4200.73  4301.52  4110.98  4139.88  5262697895   \n",
       " 8     Dec 01, 2018  4024.46  4309.38  3969.71  4214.67  5375314093   \n",
       " 9     Nov 30, 2018  4289.09  4322.98  3942.82  4017.27  6048016717   \n",
       " 10    Nov 29, 2018  4269.00  4413.02  4145.77  4278.85  6503347767   \n",
       " 11    Nov 28, 2018  3822.47  4385.90  3822.47  4257.42  7280280000   \n",
       " 12    Nov 27, 2018  3765.95  3862.96  3661.01  3820.72  5998720000   \n",
       " 13    Nov 26, 2018  4015.07  4107.14  3643.92  3779.13  6476900000   \n",
       " 14    Nov 25, 2018  3880.78  4120.87  3585.06  4009.97  6825640000   \n",
       " 15    Nov 24, 2018  4347.69  4413.09  3795.16  3880.76  4679500000   \n",
       " 16    Nov 23, 2018  4360.70  4396.42  4195.68  4347.11  4871490000   \n",
       " 17    Nov 22, 2018  4611.57  4629.64  4365.64  4365.94  4569370000   \n",
       " 18    Nov 21, 2018  4465.54  4675.73  4343.98  4602.17  6120120000   \n",
       " 19    Nov 20, 2018  4863.93  4951.61  4272.11  4451.87  8428290000   \n",
       " 20    Nov 19, 2018  5620.78  5620.78  4842.91  4871.49  7039560000   \n",
       " 21    Nov 18, 2018  5559.74  5653.61  5559.74  5623.54  4159680000   \n",
       " 22    Nov 17, 2018  5578.58  5578.58  5519.56  5554.33  4303150000   \n",
       " 23    Nov 16, 2018  5645.32  5657.02  5498.94  5575.55  5279320000   \n",
       " 24    Nov 15, 2018  5736.15  5774.82  5358.38  5648.03  7032140000   \n",
       " 25    Nov 14, 2018  6351.24  6371.55  5544.09  5738.35  7398940000   \n",
       " 26    Nov 13, 2018  6373.19  6395.27  6342.67  6359.49  4503800000   \n",
       " 27    Nov 12, 2018  6411.76  6434.21  6360.47  6371.27  4295770000   \n",
       " 28    Nov 11, 2018  6413.63  6423.25  6350.17  6411.27  3939060000   \n",
       " 29    Nov 10, 2018  6386.13  6437.28  6385.31  6409.22  3705320000   \n",
       " ...            ...      ...      ...      ...      ...         ...   \n",
       " 2022  May 27, 2013   133.50   135.46   124.70   129.74           -   \n",
       " 2023  May 26, 2013   131.99   136.00   130.62   133.48           -   \n",
       " 2024  May 25, 2013   133.10   133.22   128.90   131.98           -   \n",
       " 2025  May 24, 2013   126.30   133.85   125.72   133.20           -   \n",
       " 2026  May 23, 2013   123.80   126.93   123.10   126.70           -   \n",
       " 2027  May 22, 2013   122.89   124.00   122.00   123.89           -   \n",
       " 2028  May 21, 2013   122.02   123.00   121.21   122.88           -   \n",
       " 2029  May 20, 2013   122.50   123.62   120.12   122.00           -   \n",
       " 2030  May 19, 2013   123.21   124.50   119.57   121.99           -   \n",
       " 2031  May 18, 2013   123.50   125.25   122.30   123.50           -   \n",
       " 2032  May 17, 2013   118.21   125.30   116.57   123.01           -   \n",
       " 2033  May 16, 2013   114.22   118.76   112.20   118.76           -   \n",
       " 2034  May 15, 2013   111.40   115.81   103.50   114.22           -   \n",
       " 2035  May 14, 2013   117.98   119.80   110.25   111.50           -   \n",
       " 2036  May 13, 2013   114.82   118.70   114.50   117.98           -   \n",
       " 2037  May 12, 2013   115.64   117.45   113.43   115.00           -   \n",
       " 2038  May 11, 2013   117.70   118.68   113.01   115.24           -   \n",
       " 2039  May 10, 2013   112.80   122.00   111.55   117.20           -   \n",
       " 2040  May 09, 2013   113.20   113.46   109.26   112.67           -   \n",
       " 2041  May 08, 2013   109.60   115.78   109.60   113.57           -   \n",
       " 2042  May 07, 2013   112.25   113.44    97.70   111.50           -   \n",
       " 2043  May 06, 2013   115.98   124.66   106.64   112.30           -   \n",
       " 2044  May 05, 2013   112.90   118.80   107.14   115.91           -   \n",
       " 2045  May 04, 2013    98.10   115.00    92.50   112.50           -   \n",
       " 2046  May 03, 2013   106.25   108.13    79.10    97.75           -   \n",
       " 2047  May 02, 2013   116.38   125.60    92.28   105.21           -   \n",
       " 2048  May 01, 2013   139.00   139.89   107.72   116.99           -   \n",
       " 2049  Apr 30, 2013   144.00   146.93   134.05   139.00           -   \n",
       " 2050  Apr 29, 2013   134.44   147.49   134.00   144.54           -   \n",
       " 2051  Apr 28, 2013   135.30   135.98   132.10   134.21           -   \n",
       " \n",
       "         Market Cap  \n",
       " 0      62942160928  \n",
       " 1      60531278392  \n",
       " 2      59547645578  \n",
       " 3      61303965508  \n",
       " 4      65352496336  \n",
       " 5      68878292608  \n",
       " 6      67779050170  \n",
       " 7      72050487506  \n",
       " 8      73346194969  \n",
       " 9      69904637061  \n",
       " 10     74451016927  \n",
       " 11     74072560088  \n",
       " 12     66468970322  \n",
       " 13     65739289046  \n",
       " 14     69749265801  \n",
       " 15     67495633205  \n",
       " 16     75598851166  \n",
       " 17     75919439809  \n",
       " 18     80020171047  \n",
       " 19     77401044320  \n",
       " 20     84688539692  \n",
       " 21     97753714643  \n",
       " 22     96542098114  \n",
       " 23     96900828780  \n",
       " 24     98151606541  \n",
       " 25     99712077259  \n",
       " 26    110494466204  \n",
       " 27    110689666528  \n",
       " 28    111373453740  \n",
       " 29    111326145314  \n",
       " ...            ...  \n",
       " 2022    1454029510  \n",
       " 2023    1495293015  \n",
       " 2024    1477958233  \n",
       " 2025    1491070770  \n",
       " 2026    1417769833  \n",
       " 2027    1385778993  \n",
       " 2028    1374013440  \n",
       " 2029    1363709900  \n",
       " 2030    1363204703  \n",
       " 2031    1379574546  \n",
       " 2032    1373723882  \n",
       " 2033    1325726787  \n",
       " 2034    1274623813  \n",
       " 2035    1243874488  \n",
       " 2036    1315710011  \n",
       " 2037    1281982625  \n",
       " 2038    1284207489  \n",
       " 2039    1305479080  \n",
       " 2040    1254535382  \n",
       " 2041    1264049202  \n",
       " 2042    1240593600  \n",
       " 2043    1249023060  \n",
       " 2044    1288693176  \n",
       " 2045    1250316563  \n",
       " 2046    1085995169  \n",
       " 2047    1168517495  \n",
       " 2048    1298954594  \n",
       " 2049    1542813125  \n",
       " 2050    1603768865  \n",
       " 2051    1488566728  \n",
       " \n",
       " [2052 rows x 7 columns]]"
      ]
     },
     "execution_count": 22,
     "metadata": {},
     "output_type": "execute_result"
    }
   ],
   "source": [
    "bitcoin_market_info"
   ]
  },
  {
   "cell_type": "code",
   "execution_count": 6,
   "metadata": {},
   "outputs": [
    {
     "data": {
      "text/plain": [
       "2044"
      ]
     },
     "execution_count": 6,
     "metadata": {},
     "output_type": "execute_result"
    }
   ],
   "source": [
    "len(bitcoin_market_info[0])"
   ]
  },
  {
   "cell_type": "code",
   "execution_count": 7,
   "metadata": {},
   "outputs": [],
   "source": [
    "count = 0\n",
    "i = 1"
   ]
  },
  {
   "cell_type": "code",
   "execution_count": 8,
   "metadata": {},
   "outputs": [
    {
     "data": {
      "text/html": [
       "<div>\n",
       "<style scoped>\n",
       "    .dataframe tbody tr th:only-of-type {\n",
       "        vertical-align: middle;\n",
       "    }\n",
       "\n",
       "    .dataframe tbody tr th {\n",
       "        vertical-align: top;\n",
       "    }\n",
       "\n",
       "    .dataframe thead th {\n",
       "        text-align: right;\n",
       "    }\n",
       "</style>\n",
       "<table border=\"1\" class=\"dataframe\">\n",
       "  <thead>\n",
       "    <tr style=\"text-align: right;\">\n",
       "      <th></th>\n",
       "      <th>Date</th>\n",
       "      <th>Open*</th>\n",
       "      <th>High</th>\n",
       "      <th>Low</th>\n",
       "      <th>Close**</th>\n",
       "      <th>Volume</th>\n",
       "      <th>Market Cap</th>\n",
       "    </tr>\n",
       "  </thead>\n",
       "  <tbody>\n",
       "    <tr>\n",
       "      <th>0</th>\n",
       "      <td>Dec 01, 2018</td>\n",
       "      <td>4024.46</td>\n",
       "      <td>4309.38</td>\n",
       "      <td>3969.71</td>\n",
       "      <td>4214.67</td>\n",
       "      <td>5375314093</td>\n",
       "      <td>73346194969</td>\n",
       "    </tr>\n",
       "    <tr>\n",
       "      <th>1</th>\n",
       "      <td>Nov 30, 2018</td>\n",
       "      <td>4289.09</td>\n",
       "      <td>4322.98</td>\n",
       "      <td>3942.82</td>\n",
       "      <td>4017.27</td>\n",
       "      <td>6048016717</td>\n",
       "      <td>69904637061</td>\n",
       "    </tr>\n",
       "    <tr>\n",
       "      <th>2</th>\n",
       "      <td>Nov 29, 2018</td>\n",
       "      <td>4269.00</td>\n",
       "      <td>4413.02</td>\n",
       "      <td>4145.77</td>\n",
       "      <td>4278.85</td>\n",
       "      <td>6503347767</td>\n",
       "      <td>74451016927</td>\n",
       "    </tr>\n",
       "    <tr>\n",
       "      <th>3</th>\n",
       "      <td>Nov 28, 2018</td>\n",
       "      <td>3822.47</td>\n",
       "      <td>4385.90</td>\n",
       "      <td>3822.47</td>\n",
       "      <td>4257.42</td>\n",
       "      <td>7280280000</td>\n",
       "      <td>74072560088</td>\n",
       "    </tr>\n",
       "    <tr>\n",
       "      <th>4</th>\n",
       "      <td>Nov 27, 2018</td>\n",
       "      <td>3765.95</td>\n",
       "      <td>3862.96</td>\n",
       "      <td>3661.01</td>\n",
       "      <td>3820.72</td>\n",
       "      <td>5998720000</td>\n",
       "      <td>66468970322</td>\n",
       "    </tr>\n",
       "  </tbody>\n",
       "</table>\n",
       "</div>"
      ],
      "text/plain": [
       "           Date    Open*     High      Low  Close**      Volume   Market Cap\n",
       "0  Dec 01, 2018  4024.46  4309.38  3969.71  4214.67  5375314093  73346194969\n",
       "1  Nov 30, 2018  4289.09  4322.98  3942.82  4017.27  6048016717  69904637061\n",
       "2  Nov 29, 2018  4269.00  4413.02  4145.77  4278.85  6503347767  74451016927\n",
       "3  Nov 28, 2018  3822.47  4385.90  3822.47  4257.42  7280280000  74072560088\n",
       "4  Nov 27, 2018  3765.95  3862.96  3661.01  3820.72  5998720000  66468970322"
      ]
     },
     "execution_count": 8,
     "metadata": {},
     "output_type": "execute_result"
    }
   ],
   "source": [
    "a = bitcoin_market_info[0]\n",
    "a.head()"
   ]
  },
  {
   "cell_type": "code",
   "execution_count": 9,
   "metadata": {},
   "outputs": [],
   "source": [
    "# 交换矩阵，行列互换\n",
    "b = pd.DataFrame(a).T"
   ]
  },
  {
   "cell_type": "code",
   "execution_count": 10,
   "metadata": {},
   "outputs": [
    {
     "data": {
      "text/plain": [
       "Index(['Date', 'Open*', 'High', 'Low', 'Close**', 'Volume', 'Market Cap'], dtype='object')"
      ]
     },
     "execution_count": 10,
     "metadata": {},
     "output_type": "execute_result"
    }
   ],
   "source": [
    "a.columns"
   ]
  },
  {
   "cell_type": "code",
   "execution_count": 15,
   "metadata": {},
   "outputs": [],
   "source": [
    "# 将pandas dataFrame的数据直接存储为csv文件\n",
    "b.to_csv('bitcoin_market.csv')"
   ]
  },
  {
   "cell_type": "code",
   "execution_count": 19,
   "metadata": {},
   "outputs": [
    {
     "data": {
      "text/html": [
       "<div>\n",
       "<style scoped>\n",
       "    .dataframe tbody tr th:only-of-type {\n",
       "        vertical-align: middle;\n",
       "    }\n",
       "\n",
       "    .dataframe tbody tr th {\n",
       "        vertical-align: top;\n",
       "    }\n",
       "\n",
       "    .dataframe thead th {\n",
       "        text-align: right;\n",
       "    }\n",
       "</style>\n",
       "<table border=\"1\" class=\"dataframe\">\n",
       "  <thead>\n",
       "    <tr style=\"text-align: right;\">\n",
       "      <th></th>\n",
       "      <th>Date</th>\n",
       "      <th>Open*</th>\n",
       "      <th>High</th>\n",
       "      <th>Low</th>\n",
       "      <th>Close**</th>\n",
       "      <th>Volume</th>\n",
       "      <th>Market Cap</th>\n",
       "    </tr>\n",
       "  </thead>\n",
       "  <tbody>\n",
       "    <tr>\n",
       "      <th>1</th>\n",
       "      <td>Nov 30, 2018</td>\n",
       "      <td>4289.09</td>\n",
       "      <td>4322.98</td>\n",
       "      <td>3942.82</td>\n",
       "      <td>4017.27</td>\n",
       "      <td>6048016717</td>\n",
       "      <td>69904637061</td>\n",
       "    </tr>\n",
       "    <tr>\n",
       "      <th>2</th>\n",
       "      <td>Nov 29, 2018</td>\n",
       "      <td>4269.00</td>\n",
       "      <td>4413.02</td>\n",
       "      <td>4145.77</td>\n",
       "      <td>4278.85</td>\n",
       "      <td>6503347767</td>\n",
       "      <td>74451016927</td>\n",
       "    </tr>\n",
       "    <tr>\n",
       "      <th>3</th>\n",
       "      <td>Nov 28, 2018</td>\n",
       "      <td>3822.47</td>\n",
       "      <td>4385.90</td>\n",
       "      <td>3822.47</td>\n",
       "      <td>4257.42</td>\n",
       "      <td>7280280000</td>\n",
       "      <td>74072560088</td>\n",
       "    </tr>\n",
       "  </tbody>\n",
       "</table>\n",
       "</div>"
      ],
      "text/plain": [
       "           Date    Open*     High      Low  Close**      Volume   Market Cap\n",
       "1  Nov 30, 2018  4289.09  4322.98  3942.82  4017.27  6048016717  69904637061\n",
       "2  Nov 29, 2018  4269.00  4413.02  4145.77  4278.85  6503347767  74451016927\n",
       "3  Nov 28, 2018  3822.47  4385.90  3822.47  4257.42  7280280000  74072560088"
      ]
     },
     "execution_count": 19,
     "metadata": {},
     "output_type": "execute_result"
    }
   ],
   "source": [
    "a.loc[1:3]"
   ]
  },
  {
   "cell_type": "code",
   "execution_count": 18,
   "metadata": {},
   "outputs": [
    {
     "data": {
      "text/plain": [
       "Date          Dec 01, 2018Nov 30, 2018Nov 29, 2018Nov 28, 20...\n",
       "Open*                                               4.67521e+06\n",
       "High                                                4.81641e+06\n",
       "Low                                                 4.51562e+06\n",
       "Close**                                             4.67887e+06\n",
       "Volume        5375314093604801671765033477677280280000599872...\n",
       "Market Cap                                       77439023263728\n",
       "dtype: object"
      ]
     },
     "execution_count": 18,
     "metadata": {},
     "output_type": "execute_result"
    }
   ],
   "source": [
    "a.sum()"
   ]
  },
  {
   "cell_type": "code",
   "execution_count": 18,
   "metadata": {},
   "outputs": [
    {
     "data": {
      "text/plain": [
       "numpy.int64"
      ]
     },
     "execution_count": 18,
     "metadata": {},
     "output_type": "execute_result"
    }
   ],
   "source": [
    "type(a['Market Cap'][1])"
   ]
  },
  {
   "cell_type": "code",
   "execution_count": 19,
   "metadata": {},
   "outputs": [
    {
     "data": {
      "text/plain": [
       "'Nov 21, 2018'"
      ]
     },
     "execution_count": 19,
     "metadata": {},
     "output_type": "execute_result"
    }
   ],
   "source": [
    "a['Date'][1]"
   ]
  },
  {
   "cell_type": "code",
   "execution_count": 20,
   "metadata": {},
   "outputs": [
    {
     "data": {
      "text/plain": [
       "Open*         2.279331e+03\n",
       "High          2.347952e+03\n",
       "Low           2.201895e+03\n",
       "Close**       2.281212e+03\n",
       "Market Cap    3.774064e+10\n",
       "dtype: float64"
      ]
     },
     "execution_count": 20,
     "metadata": {},
     "output_type": "execute_result"
    }
   ],
   "source": [
    "a.mean()"
   ]
  },
  {
   "cell_type": "code",
   "execution_count": 21,
   "metadata": {},
   "outputs": [
    {
     "data": {
      "text/html": [
       "<div>\n",
       "<style scoped>\n",
       "    .dataframe tbody tr th:only-of-type {\n",
       "        vertical-align: middle;\n",
       "    }\n",
       "\n",
       "    .dataframe tbody tr th {\n",
       "        vertical-align: top;\n",
       "    }\n",
       "\n",
       "    .dataframe thead th {\n",
       "        text-align: right;\n",
       "    }\n",
       "</style>\n",
       "<table border=\"1\" class=\"dataframe\">\n",
       "  <thead>\n",
       "    <tr style=\"text-align: right;\">\n",
       "      <th></th>\n",
       "      <th>Open*</th>\n",
       "      <th>High</th>\n",
       "      <th>Low</th>\n",
       "      <th>Close**</th>\n",
       "      <th>Market Cap</th>\n",
       "    </tr>\n",
       "  </thead>\n",
       "  <tbody>\n",
       "    <tr>\n",
       "      <th>count</th>\n",
       "      <td>2035.000000</td>\n",
       "      <td>2035.000000</td>\n",
       "      <td>2035.000000</td>\n",
       "      <td>2035.000000</td>\n",
       "      <td>2.035000e+03</td>\n",
       "    </tr>\n",
       "    <tr>\n",
       "      <th>mean</th>\n",
       "      <td>2279.330865</td>\n",
       "      <td>2347.952260</td>\n",
       "      <td>2201.895248</td>\n",
       "      <td>2281.212113</td>\n",
       "      <td>3.774064e+10</td>\n",
       "    </tr>\n",
       "    <tr>\n",
       "      <th>std</th>\n",
       "      <td>3442.946652</td>\n",
       "      <td>3568.354111</td>\n",
       "      <td>3289.901446</td>\n",
       "      <td>3442.689847</td>\n",
       "      <td>5.860490e+10</td>\n",
       "    </tr>\n",
       "    <tr>\n",
       "      <th>min</th>\n",
       "      <td>68.500000</td>\n",
       "      <td>74.560000</td>\n",
       "      <td>65.530000</td>\n",
       "      <td>68.430000</td>\n",
       "      <td>7.784112e+08</td>\n",
       "    </tr>\n",
       "    <tr>\n",
       "      <th>25%</th>\n",
       "      <td>320.220000</td>\n",
       "      <td>328.535000</td>\n",
       "      <td>312.470000</td>\n",
       "      <td>320.350000</td>\n",
       "      <td>4.379812e+09</td>\n",
       "    </tr>\n",
       "    <tr>\n",
       "      <th>50%</th>\n",
       "      <td>596.330000</td>\n",
       "      <td>606.590000</td>\n",
       "      <td>586.340000</td>\n",
       "      <td>596.550000</td>\n",
       "      <td>8.119395e+09</td>\n",
       "    </tr>\n",
       "    <tr>\n",
       "      <th>75%</th>\n",
       "      <td>2575.190000</td>\n",
       "      <td>2672.555000</td>\n",
       "      <td>2510.350000</td>\n",
       "      <td>2582.945000</td>\n",
       "      <td>4.245226e+10</td>\n",
       "    </tr>\n",
       "    <tr>\n",
       "      <th>max</th>\n",
       "      <td>19475.800000</td>\n",
       "      <td>20089.000000</td>\n",
       "      <td>18974.100000</td>\n",
       "      <td>19497.400000</td>\n",
       "      <td>3.265025e+11</td>\n",
       "    </tr>\n",
       "  </tbody>\n",
       "</table>\n",
       "</div>"
      ],
      "text/plain": [
       "              Open*          High           Low       Close**    Market Cap\n",
       "count   2035.000000   2035.000000   2035.000000   2035.000000  2.035000e+03\n",
       "mean    2279.330865   2347.952260   2201.895248   2281.212113  3.774064e+10\n",
       "std     3442.946652   3568.354111   3289.901446   3442.689847  5.860490e+10\n",
       "min       68.500000     74.560000     65.530000     68.430000  7.784112e+08\n",
       "25%      320.220000    328.535000    312.470000    320.350000  4.379812e+09\n",
       "50%      596.330000    606.590000    586.340000    596.550000  8.119395e+09\n",
       "75%     2575.190000   2672.555000   2510.350000   2582.945000  4.245226e+10\n",
       "max    19475.800000  20089.000000  18974.100000  19497.400000  3.265025e+11"
      ]
     },
     "execution_count": 21,
     "metadata": {},
     "output_type": "execute_result"
    }
   ],
   "source": [
    "a.describe()"
   ]
  },
  {
   "cell_type": "code",
   "execution_count": 26,
   "metadata": {},
   "outputs": [
    {
     "data": {
      "text/html": [
       "<div>\n",
       "<style scoped>\n",
       "    .dataframe tbody tr th:only-of-type {\n",
       "        vertical-align: middle;\n",
       "    }\n",
       "\n",
       "    .dataframe tbody tr th {\n",
       "        vertical-align: top;\n",
       "    }\n",
       "\n",
       "    .dataframe thead th {\n",
       "        text-align: right;\n",
       "    }\n",
       "</style>\n",
       "<table border=\"1\" class=\"dataframe\">\n",
       "  <thead>\n",
       "    <tr style=\"text-align: right;\">\n",
       "      <th></th>\n",
       "      <th>Open*</th>\n",
       "      <th>Close**</th>\n",
       "    </tr>\n",
       "  </thead>\n",
       "  <tbody>\n",
       "    <tr>\n",
       "      <th>0</th>\n",
       "      <td>4611.57</td>\n",
       "      <td>4365.94</td>\n",
       "    </tr>\n",
       "    <tr>\n",
       "      <th>1</th>\n",
       "      <td>4465.54</td>\n",
       "      <td>4602.17</td>\n",
       "    </tr>\n",
       "    <tr>\n",
       "      <th>2</th>\n",
       "      <td>4863.93</td>\n",
       "      <td>4451.87</td>\n",
       "    </tr>\n",
       "    <tr>\n",
       "      <th>3</th>\n",
       "      <td>5620.78</td>\n",
       "      <td>4871.49</td>\n",
       "    </tr>\n",
       "    <tr>\n",
       "      <th>4</th>\n",
       "      <td>5559.74</td>\n",
       "      <td>5623.54</td>\n",
       "    </tr>\n",
       "    <tr>\n",
       "      <th>5</th>\n",
       "      <td>5578.58</td>\n",
       "      <td>5554.33</td>\n",
       "    </tr>\n",
       "    <tr>\n",
       "      <th>6</th>\n",
       "      <td>5645.32</td>\n",
       "      <td>5575.55</td>\n",
       "    </tr>\n",
       "    <tr>\n",
       "      <th>7</th>\n",
       "      <td>5736.15</td>\n",
       "      <td>5648.03</td>\n",
       "    </tr>\n",
       "    <tr>\n",
       "      <th>8</th>\n",
       "      <td>6351.24</td>\n",
       "      <td>5738.35</td>\n",
       "    </tr>\n",
       "    <tr>\n",
       "      <th>9</th>\n",
       "      <td>6373.19</td>\n",
       "      <td>6359.49</td>\n",
       "    </tr>\n",
       "  </tbody>\n",
       "</table>\n",
       "</div>"
      ],
      "text/plain": [
       "     Open*  Close**\n",
       "0  4611.57  4365.94\n",
       "1  4465.54  4602.17\n",
       "2  4863.93  4451.87\n",
       "3  5620.78  4871.49\n",
       "4  5559.74  5623.54\n",
       "5  5578.58  5554.33\n",
       "6  5645.32  5575.55\n",
       "7  5736.15  5648.03\n",
       "8  6351.24  5738.35\n",
       "9  6373.19  6359.49"
      ]
     },
     "execution_count": 26,
     "metadata": {},
     "output_type": "execute_result"
    }
   ],
   "source": [
    "a[['Open*','Close**']].head(10)"
   ]
  },
  {
   "cell_type": "code",
   "execution_count": 23,
   "metadata": {},
   "outputs": [
    {
     "data": {
      "text/plain": [
       "<matplotlib.axes._subplots.AxesSubplot at 0x7f2f18280da0>"
      ]
     },
     "execution_count": 23,
     "metadata": {},
     "output_type": "execute_result"
    }
   ],
   "source": [
    "\n",
    "#plt.xlabel('Date')\n",
    "#plt.xlabel('Date')\n",
    "#plt.ylabel('value')\n",
    "a[['Open*','Close**']].head(100).plot()\n",
    "#df[['Open', 'Close']].plot(figsize=(15,5));"
   ]
  },
  {
   "cell_type": "code",
   "execution_count": 20,
   "metadata": {},
   "outputs": [
    {
     "name": "stdout",
     "output_type": "stream",
     "text": [
      "<class 'pandas.core.frame.DataFrame'>\n",
      "RangeIndex: 2044 entries, 0 to 2043\n",
      "Data columns (total 7 columns):\n",
      "Date          2044 non-null object\n",
      "Open*         2044 non-null float64\n",
      "High          2044 non-null float64\n",
      "Low           2044 non-null float64\n",
      "Close**       2044 non-null float64\n",
      "Volume        2044 non-null object\n",
      "Market Cap    2044 non-null int64\n",
      "dtypes: float64(4), int64(1), object(2)\n",
      "memory usage: 111.9+ KB\n"
     ]
    }
   ],
   "source": [
    "a.info()"
   ]
  },
  {
   "cell_type": "code",
   "execution_count": 21,
   "metadata": {},
   "outputs": [
    {
     "ename": "NameError",
     "evalue": "name 'B_list' is not defined",
     "output_type": "error",
     "traceback": [
      "\u001b[0;31m---------------------------------------------------------------------------\u001b[0m",
      "\u001b[0;31mNameError\u001b[0m                                 Traceback (most recent call last)",
      "\u001b[0;32m<ipython-input-21-fb6bca6a5b72>\u001b[0m in \u001b[0;36m<module>\u001b[0;34m\u001b[0m\n\u001b[0;32m----> 1\u001b[0;31m \u001b[0mfinaldf\u001b[0m \u001b[0;34m=\u001b[0m \u001b[0mpd\u001b[0m\u001b[0;34m.\u001b[0m\u001b[0mDataFrame\u001b[0m\u001b[0;34m(\u001b[0m\u001b[0mB_list\u001b[0m\u001b[0;34m)\u001b[0m\u001b[0;34m.\u001b[0m\u001b[0mT\u001b[0m\u001b[0;34m\u001b[0m\u001b[0m\n\u001b[0m\u001b[1;32m      2\u001b[0m \u001b[0mfinaldf\u001b[0m\u001b[0;34m.\u001b[0m\u001b[0mto_csv\u001b[0m\u001b[0;34m(\u001b[0m\u001b[0;34m'output.csv'\u001b[0m\u001b[0;34m,\u001b[0m \u001b[0mindex\u001b[0m\u001b[0;34m=\u001b[0m\u001b[0;32mFalse\u001b[0m\u001b[0;34m,\u001b[0m \u001b[0mheader\u001b[0m\u001b[0;34m=\u001b[0m\u001b[0;32mNone\u001b[0m\u001b[0;34m)\u001b[0m\u001b[0;34m\u001b[0m\u001b[0m\n",
      "\u001b[0;31mNameError\u001b[0m: name 'B_list' is not defined"
     ]
    }
   ],
   "source": [
    "finaldf = pd.DataFrame(B_list).T\n",
    "finaldf.to_csv('output.csv', index=False, header=None)"
   ]
  },
  {
   "cell_type": "code",
   "execution_count": null,
   "metadata": {},
   "outputs": [],
   "source": [
    "time(a['Date'])"
   ]
  },
  {
   "cell_type": "code",
   "execution_count": null,
   "metadata": {},
   "outputs": [],
   "source": [
    "import matplotlib.finance as mpf"
   ]
  },
  {
   "cell_type": "code",
   "execution_count": 22,
   "metadata": {},
   "outputs": [],
   "source": [
    "start = (2018,1,1)\n",
    "end = (2018,12,1)\n",
    "\n",
    "#quotes = mpf.quotes_historical_yahoo_ochl('^GDAXI',start,end)"
   ]
  },
  {
   "cell_type": "code",
   "execution_count": 23,
   "metadata": {},
   "outputs": [],
   "source": [
    "a.columns\n",
    "#df[['width','length','species']]\n",
    "b=a[['Date', 'Open*', 'High', 'Low', 'Close**', 'Volume']]\n",
    "c=b.head(100)"
   ]
  },
  {
   "cell_type": "code",
   "execution_count": 24,
   "metadata": {},
   "outputs": [
    {
     "data": {
      "text/html": [
       "<div>\n",
       "<style scoped>\n",
       "    .dataframe tbody tr th:only-of-type {\n",
       "        vertical-align: middle;\n",
       "    }\n",
       "\n",
       "    .dataframe tbody tr th {\n",
       "        vertical-align: top;\n",
       "    }\n",
       "\n",
       "    .dataframe thead th {\n",
       "        text-align: right;\n",
       "    }\n",
       "</style>\n",
       "<table border=\"1\" class=\"dataframe\">\n",
       "  <thead>\n",
       "    <tr style=\"text-align: right;\">\n",
       "      <th></th>\n",
       "      <th>Date</th>\n",
       "      <th>Open*</th>\n",
       "      <th>highs</th>\n",
       "      <th>lows</th>\n",
       "      <th>closes</th>\n",
       "      <th>Volume</th>\n",
       "    </tr>\n",
       "  </thead>\n",
       "  <tbody>\n",
       "    <tr>\n",
       "      <th>0</th>\n",
       "      <td>Dec 01, 2018</td>\n",
       "      <td>4024.46</td>\n",
       "      <td>4309.38</td>\n",
       "      <td>3969.71</td>\n",
       "      <td>4214.67</td>\n",
       "      <td>5375314093</td>\n",
       "    </tr>\n",
       "    <tr>\n",
       "      <th>1</th>\n",
       "      <td>Nov 30, 2018</td>\n",
       "      <td>4289.09</td>\n",
       "      <td>4322.98</td>\n",
       "      <td>3942.82</td>\n",
       "      <td>4017.27</td>\n",
       "      <td>6048016717</td>\n",
       "    </tr>\n",
       "    <tr>\n",
       "      <th>2</th>\n",
       "      <td>Nov 29, 2018</td>\n",
       "      <td>4269.00</td>\n",
       "      <td>4413.02</td>\n",
       "      <td>4145.77</td>\n",
       "      <td>4278.85</td>\n",
       "      <td>6503347767</td>\n",
       "    </tr>\n",
       "    <tr>\n",
       "      <th>3</th>\n",
       "      <td>Nov 28, 2018</td>\n",
       "      <td>3822.47</td>\n",
       "      <td>4385.90</td>\n",
       "      <td>3822.47</td>\n",
       "      <td>4257.42</td>\n",
       "      <td>7280280000</td>\n",
       "    </tr>\n",
       "    <tr>\n",
       "      <th>4</th>\n",
       "      <td>Nov 27, 2018</td>\n",
       "      <td>3765.95</td>\n",
       "      <td>3862.96</td>\n",
       "      <td>3661.01</td>\n",
       "      <td>3820.72</td>\n",
       "      <td>5998720000</td>\n",
       "    </tr>\n",
       "  </tbody>\n",
       "</table>\n",
       "</div>"
      ],
      "text/plain": [
       "           Date    Open*    highs     lows   closes      Volume\n",
       "0  Dec 01, 2018  4024.46  4309.38  3969.71  4214.67  5375314093\n",
       "1  Nov 30, 2018  4289.09  4322.98  3942.82  4017.27  6048016717\n",
       "2  Nov 29, 2018  4269.00  4413.02  4145.77  4278.85  6503347767\n",
       "3  Nov 28, 2018  3822.47  4385.90  3822.47  4257.42  7280280000\n",
       "4  Nov 27, 2018  3765.95  3862.96  3661.01  3820.72  5998720000"
      ]
     },
     "execution_count": 24,
     "metadata": {},
     "output_type": "execute_result"
    }
   ],
   "source": [
    "#df.rename(columns = {'y':'year'})\n",
    "c=c.rename(columns={'High':'highs','Low':'lows','Close**':'closes'})\n",
    "c.head()"
   ]
  },
  {
   "cell_type": "code",
   "execution_count": 28,
   "metadata": {},
   "outputs": [
    {
     "ename": "AttributeError",
     "evalue": "module 'matplotlib' has no attribute 'subplots'",
     "output_type": "error",
     "traceback": [
      "\u001b[0;31m---------------------------------------------------------------------------\u001b[0m",
      "\u001b[0;31mAttributeError\u001b[0m                            Traceback (most recent call last)",
      "\u001b[0;32m<ipython-input-28-1bbbc82a426c>\u001b[0m in \u001b[0;36m<module>\u001b[0;34m\u001b[0m\n\u001b[1;32m      1\u001b[0m \u001b[0;34m\u001b[0m\u001b[0m\n\u001b[0;32m----> 2\u001b[0;31m \u001b[0mfig\u001b[0m\u001b[0;34m,\u001b[0m\u001b[0max\u001b[0m \u001b[0;34m=\u001b[0m \u001b[0mplt\u001b[0m\u001b[0;34m.\u001b[0m\u001b[0msubplots\u001b[0m\u001b[0;34m(\u001b[0m\u001b[0mfigsize\u001b[0m\u001b[0;34m=\u001b[0m\u001b[0;34m(\u001b[0m\u001b[0;36m8\u001b[0m\u001b[0;34m,\u001b[0m\u001b[0;36m5\u001b[0m\u001b[0;34m)\u001b[0m\u001b[0;34m)\u001b[0m\u001b[0;34m\u001b[0m\u001b[0m\n\u001b[0m\u001b[1;32m      3\u001b[0m \u001b[0mfig\u001b[0m\u001b[0;34m.\u001b[0m\u001b[0msubplots_adjust\u001b[0m\u001b[0;34m(\u001b[0m\u001b[0mbottom\u001b[0m\u001b[0;34m=\u001b[0m\u001b[0;36m0.2\u001b[0m\u001b[0;34m)\u001b[0m\u001b[0;34m\u001b[0m\u001b[0m\n\u001b[1;32m      4\u001b[0m \u001b[0;34m\u001b[0m\u001b[0m\n\u001b[1;32m      5\u001b[0m \u001b[0mmpf\u001b[0m\u001b[0;34m.\u001b[0m\u001b[0mcandlestick2_ochl\u001b[0m\u001b[0;34m(\u001b[0m\u001b[0max\u001b[0m\u001b[0;34m,\u001b[0m\u001b[0md\u001b[0m\u001b[0;34m,\u001b[0m\u001b[0mwidth\u001b[0m\u001b[0;34m=\u001b[0m\u001b[0;36m0.6\u001b[0m\u001b[0;34m,\u001b[0m\u001b[0mcolorup\u001b[0m\u001b[0;34m=\u001b[0m\u001b[0;34m'b'\u001b[0m\u001b[0;34m,\u001b[0m\u001b[0mcolordown\u001b[0m\u001b[0;34m=\u001b[0m\u001b[0;34m'r'\u001b[0m\u001b[0;34m)\u001b[0m\u001b[0;34m\u001b[0m\u001b[0m\n",
      "\u001b[0;31mAttributeError\u001b[0m: module 'matplotlib' has no attribute 'subplots'"
     ]
    }
   ],
   "source": [
    "\n",
    "fig,ax = plt.subplots(figsize=(8,5))\n",
    "fig.subplots_adjust(bottom=0.2)\n",
    "\n",
    "mpf.candlestick2_ochl(ax,d,width=0.6,colorup='b',colordown='r')\n",
    "plt.grid(True)\n",
    "ax.xaxis_date()\n",
    "ax.autoscale_view()\n",
    "plt.setp(plt.gca().get_xticklabels(),rotation=30)\n"
   ]
  },
  {
   "cell_type": "code",
   "execution_count": null,
   "metadata": {},
   "outputs": [],
   "source": [
    "a.to_csv('bitcoin_market1.csv')"
   ]
  },
  {
   "cell_type": "code",
   "execution_count": null,
   "metadata": {},
   "outputs": [],
   "source": [
    "a.to_excel('bitcoin_market2.xls',encoding='UTF-8')"
   ]
  },
  {
   "cell_type": "code",
   "execution_count": null,
   "metadata": {},
   "outputs": [],
   "source": [
    "with open(\"bitcoin_market.csv\",'w') as bitcoin_market:\n",
    "    while (count<len(bitcoin_market_info[0]):\n",
    "           bitcoin_market_info[0]\n",
    "           \n",
    "        bitcoin_market.write(i)\n",
    "print(\"Save bitcoin market infomation into bitcoin_market.csv from \"+ startdate + \" to \"+ enddate)"
   ]
  },
  {
   "cell_type": "code",
   "execution_count": null,
   "metadata": {},
   "outputs": [],
   "source": [
    "a.to_html(\"bitcoin.html\")"
   ]
  },
  {
   "cell_type": "code",
   "execution_count": null,
   "metadata": {},
   "outputs": [],
   "source": [
    "a.to_json(\"bitcoin.json\")"
   ]
  },
  {
   "cell_type": "code",
   "execution_count": null,
   "metadata": {},
   "outputs": [],
   "source": [
    "pd.read_html(url)"
   ]
  },
  {
   "cell_type": "code",
   "execution_count": null,
   "metadata": {},
   "outputs": [],
   "source": [
    "pd.read_html?"
   ]
  },
  {
   "cell_type": "code",
   "execution_count": null,
   "metadata": {},
   "outputs": [],
   "source": [
    "bitcoin_market_info"
   ]
  },
  {
   "cell_type": "code",
   "execution_count": null,
   "metadata": {},
   "outputs": [],
   "source": [
    "plt.(a['Close**'])"
   ]
  },
  {
   "cell_type": "code",
   "execution_count": null,
   "metadata": {},
   "outputs": [],
   "source": [
    "%matplotlib inline\n",
    "import pandas as pd\n",
    "import matplotlib.pyplot as plt\n",
    "import numpy as np"
   ]
  },
  {
   "cell_type": "code",
   "execution_count": null,
   "metadata": {},
   "outputs": [],
   "source": [
    "plt.scatter(a['Open*'], a['Close**'], s=a['Volume'])"
   ]
  },
  {
   "cell_type": "code",
   "execution_count": null,
   "metadata": {},
   "outputs": [],
   "source": [
    "a['Open*']"
   ]
  },
  {
   "cell_type": "code",
   "execution_count": null,
   "metadata": {},
   "outputs": [],
   "source": [
    "plt.figure(); a['Open*'].plot();a['Close**'].plot();"
   ]
  },
  {
   "cell_type": "code",
   "execution_count": null,
   "metadata": {},
   "outputs": [],
   "source": [
    "plt.figure(); a['Open*'].plot();"
   ]
  },
  {
   "cell_type": "code",
   "execution_count": null,
   "metadata": {},
   "outputs": [],
   "source": [
    "a['Close**'].plot();"
   ]
  },
  {
   "cell_type": "code",
   "execution_count": null,
   "metadata": {},
   "outputs": [],
   "source": [
    "b=[]\n",
    "i=0\n",
    "while (i<len(a['Volume']):\n",
    "       b.append(a['Volume'[i]])\n",
    "       i=i+1"
   ]
  },
  {
   "cell_type": "code",
   "execution_count": null,
   "metadata": {},
   "outputs": [],
   "source": []
  },
  {
   "cell_type": "code",
   "execution_count": null,
   "metadata": {},
   "outputs": [],
   "source": []
  }
 ],
 "metadata": {
  "kernelspec": {
   "display_name": "Python 3",
   "language": "python",
   "name": "python3"
  },
  "language_info": {
   "codemirror_mode": {
    "name": "ipython",
    "version": 3
   },
   "file_extension": ".py",
   "mimetype": "text/x-python",
   "name": "python",
   "nbconvert_exporter": "python",
   "pygments_lexer": "ipython3",
   "version": "3.6.5"
  }
 },
 "nbformat": 4,
 "nbformat_minor": 2
}
